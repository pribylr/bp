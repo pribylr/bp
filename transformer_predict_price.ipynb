{
 "cells": [
  {
   "cell_type": "markdown",
   "id": "4d85752e-d53c-4f9f-8f6b-402801c0d126",
   "metadata": {},
   "source": [
    "Transformer model; predicting price<br>\n",
    "USD/CAD currency pair"
   ]
  },
  {
   "cell_type": "code",
   "execution_count": 1,
   "id": "64314217-0e27-4ae9-bba0-3c1998900cdc",
   "metadata": {},
   "outputs": [
    {
     "name": "stderr",
     "output_type": "stream",
     "text": [
      "2024-06-27 20:06:22.729305: I tensorflow/core/util/port.cc:111] oneDNN custom operations are on. You may see slightly different numerical results due to floating-point round-off errors from different computation orders. To turn them off, set the environment variable `TF_ENABLE_ONEDNN_OPTS=0`.\n",
      "2024-06-27 20:06:22.754115: E tensorflow/compiler/xla/stream_executor/cuda/cuda_dnn.cc:9342] Unable to register cuDNN factory: Attempting to register factory for plugin cuDNN when one has already been registered\n",
      "2024-06-27 20:06:22.754132: E tensorflow/compiler/xla/stream_executor/cuda/cuda_fft.cc:609] Unable to register cuFFT factory: Attempting to register factory for plugin cuFFT when one has already been registered\n",
      "2024-06-27 20:06:22.754148: E tensorflow/compiler/xla/stream_executor/cuda/cuda_blas.cc:1518] Unable to register cuBLAS factory: Attempting to register factory for plugin cuBLAS when one has already been registered\n",
      "2024-06-27 20:06:22.758972: I tensorflow/core/platform/cpu_feature_guard.cc:182] This TensorFlow binary is optimized to use available CPU instructions in performance-critical operations.\n",
      "To enable the following instructions: AVX2 AVX512F AVX512_VNNI FMA, in other operations, rebuild TensorFlow with the appropriate compiler flags.\n",
      "2024-06-27 20:06:23.249992: W tensorflow/compiler/tf2tensorrt/utils/py_utils.cc:38] TF-TRT Warning: Could not find TensorRT\n"
     ]
    }
   ],
   "source": [
    "from imports import *"
   ]
  },
  {
   "cell_type": "code",
   "execution_count": 2,
   "id": "4570f90d-9741-4103-a0f3-c22bb4d0c1e8",
   "metadata": {},
   "outputs": [],
   "source": [
    "sys.path.append('src')\n",
    "from process_data import DataProcessor\n",
    "from vanilla_transformer import Transformer\n",
    "from visualize_data import Visualizer\n",
    "from train_model import ModelTrainer\n",
    "from load_data import DataLoader\n",
    "model_trainer = ModelTrainer()\n",
    "data_processor = DataProcessor()\n",
    "visualizer = Visualizer()\n",
    "data_loader = DataLoader()"
   ]
  },
  {
   "cell_type": "code",
   "execution_count": null,
   "id": "75412653-22bf-44ff-806e-32658fd21423",
   "metadata": {},
   "outputs": [],
   "source": [
    "# data pre-processing\n",
    "# applying butterworth filter to prices, adding technical indicators"
   ]
  },
  {
   "cell_type": "code",
   "execution_count": 3,
   "id": "fa2e1609-47f2-49ea-8845-d485ca513f78",
   "metadata": {},
   "outputs": [],
   "source": [
    "data, pip_factor = data_loader.load_usdcad_1min()"
   ]
  },
  {
   "cell_type": "code",
   "execution_count": null,
   "id": "5b3769bd-577e-44c9-aba8-f9b9ac28e507",
   "metadata": {},
   "outputs": [],
   "source": []
  },
  {
   "cell_type": "code",
   "execution_count": 4,
   "id": "9eb89278-c1fa-4f2b-b3a0-e8dcb0e9f4f0",
   "metadata": {},
   "outputs": [],
   "source": [
    "input_seq_len = 96\n",
    "output_seq_len = 30\n",
    "\n",
    "train_pct = 0.6\n",
    "val_pct = 0.2"
   ]
  },
  {
   "cell_type": "code",
   "execution_count": 5,
   "id": "98ac5180-7457-44a4-806b-038ebec1b706",
   "metadata": {},
   "outputs": [],
   "source": [
    "b, a = butter(5, 1/12, btype='low', analog=False)\n",
    "data['bw_close'] = filtfilt(b, a, data['close'])"
   ]
  },
  {
   "cell_type": "code",
   "execution_count": 6,
   "id": "fedfce9a-e88c-4205-adbe-ceefcd1f0b12",
   "metadata": {},
   "outputs": [],
   "source": [
    "data['rsi_close_15'] = abstract.RSI(data, timeperiod=15, price='close')\n",
    "data['rsi_close_60'] = abstract.RSI(data, timeperiod=60, price='close')\n",
    "data['atr_14'] = abstract.ATR(data, timeperiod=14)\n",
    "slowk, slowd = talib.STOCH(data['high'], data['low'], data['close'])\n",
    "data['slowk'] = slowk\n",
    "data['slowd'] = slowd\n"
   ]
  },
  {
   "cell_type": "code",
   "execution_count": 7,
   "id": "1d571d9a-33bd-4712-bcae-41e97a7f609a",
   "metadata": {},
   "outputs": [],
   "source": [
    "data.dropna(how='any', axis=0, inplace=True)"
   ]
  },
  {
   "cell_type": "code",
   "execution_count": 8,
   "id": "07af386e-d458-4ace-b1fd-9b70658c9f56",
   "metadata": {},
   "outputs": [],
   "source": [
    "data, _ = data_processor.normalize_custom(data, train_pct, ['volume', 'rsi_close_15', 'rsi_close_60', 'atr_14', 'slowk', 'slowd', 'close', 'bw_close'])"
   ]
  },
  {
   "cell_type": "code",
   "execution_count": 9,
   "id": "5cac2d76-a1f8-45a3-8d24-54e516c12821",
   "metadata": {},
   "outputs": [],
   "source": [
    "# keep information about the target variable and the time, for evaluation\n",
    "target_time = data[['time', 'bw_close', 'close']]"
   ]
  },
  {
   "cell_type": "code",
   "execution_count": 10,
   "id": "e38a13b0-b592-4f48-871a-b3bdb3b497ff",
   "metadata": {},
   "outputs": [],
   "source": [
    "target = data[['close', 'bw_close']]"
   ]
  },
  {
   "cell_type": "code",
   "execution_count": 11,
   "id": "be8d4a10-3f23-4776-97cb-b3594960f4bd",
   "metadata": {},
   "outputs": [],
   "source": [
    "# keep the filtered prices, not the original\n",
    "data.drop(['open', 'high', 'low', 'close'], axis=1, inplace=True)"
   ]
  },
  {
   "cell_type": "code",
   "execution_count": null,
   "id": "5e6dfaf7-2a08-43df-8da4-e4b3aa77ab93",
   "metadata": {},
   "outputs": [],
   "source": []
  },
  {
   "cell_type": "code",
   "execution_count": null,
   "id": "0a52a033-cfc9-4372-a1e9-d8e8f1fee9a0",
   "metadata": {},
   "outputs": [],
   "source": [
    "# data splitting --- input - output sequences, and train-val-test"
   ]
  },
  {
   "cell_type": "code",
   "execution_count": 12,
   "id": "63913229-fdc1-4aa6-b664-de4c844212a8",
   "metadata": {},
   "outputs": [],
   "source": [
    "Xdata, ydata = model_trainer.create_Xy_data(data, target, input_seq_len, output_seq_len)"
   ]
  },
  {
   "cell_type": "code",
   "execution_count": 13,
   "id": "f097a78e-62c5-4f50-970e-639a32423123",
   "metadata": {},
   "outputs": [],
   "source": [
    "# shuffle the sequences, to avoid teaching the model patterns from a specific time\n",
    "np.random.seed(42)\n",
    "shuffled_indices = np.random.permutation(Xdata.shape[0])\n",
    "Xdata = Xdata[shuffled_indices]\n",
    "ydata = ydata[shuffled_indices]"
   ]
  },
  {
   "cell_type": "code",
   "execution_count": 14,
   "id": "3c5a84ae-582e-4179-9ef2-b6d751e70ba4",
   "metadata": {},
   "outputs": [],
   "source": [
    "Xtrain_time, ytrain_c, Xval_time, yval_c, Xtest_time, ytest_c = model_trainer.split_data(Xdata, ydata, train_pct, val_pct)"
   ]
  },
  {
   "cell_type": "code",
   "execution_count": 15,
   "id": "dd904b31-6290-4685-b229-993ece10ef92",
   "metadata": {},
   "outputs": [],
   "source": [
    "# discard time column\n",
    "Xtrain = (Xtrain_time[:, :, 1:]).astype(np.float64)\n",
    "Xval = (Xval_time[:, :, 1:]).astype(np.float64)\n",
    "Xtest = (Xtest_time[:, :, 1:]).astype(np.float64)\n",
    "\n",
    "# discard original close price column, keep only filtered close price column\n",
    "ytrain = ytrain_c[:, :, 1:]\n",
    "yval = yval_c[:, :, 1:]\n",
    "ytest = ytest_c[:, :, 1:]"
   ]
  },
  {
   "cell_type": "code",
   "execution_count": 16,
   "id": "8432207e-42d8-49be-9507-225629fc2cb8",
   "metadata": {},
   "outputs": [],
   "source": [
    "# parameters of the transformer model\n",
    "config = {\n",
    "    'input_seq_len': input_seq_len,\n",
    "    'output_seq_len': output_seq_len,\n",
    "    'multihead_attn_heads': 8,\n",
    "    'd_k': 32,\n",
    "    'd_v': 32,\n",
    "    'd_ff': 32,\n",
    "    'd_out': ytrain.shape[-1],\n",
    "    'd_model': 32,\n",
    "    'encoder_layers': 1,\n",
    "    'decoder_layers': 1,\n",
    "    'dropout_rate': 0.1,\n",
    "    'activation': 'relu',\n",
    "    'batch_size': 32,\n",
    "    'target_idx': 1\n",
    "}"
   ]
  },
  {
   "cell_type": "code",
   "execution_count": 17,
   "id": "1b1205ff-e2e2-4f22-bf0a-0a5da7c48dfc",
   "metadata": {},
   "outputs": [
    {
     "name": "stderr",
     "output_type": "stream",
     "text": [
      "2024-06-27 20:06:36.661836: I tensorflow/core/common_runtime/gpu/gpu_device.cc:1886] Created device /job:localhost/replica:0/task:0/device:GPU:0 with 9408 MB memory:  -> device: 0, name: NVIDIA GeForce RTX 3060, pci bus id: 0000:01:00.0, compute capability: 8.6\n"
     ]
    }
   ],
   "source": [
    "# Note: model trained on more epochs than this, but for computational limitations the model was regularly saved and loaded again to continue training\n",
    "epochs = 3\n",
    "\n",
    "path = 'saved_models/tf-absolute-96in-30out.h5'\n",
    "\n",
    "model = model_trainer.load_model_transformer(path, Xtest, config)\n",
    "\n",
    "#model = Transformer(config)"
   ]
  },
  {
   "cell_type": "code",
   "execution_count": 18,
   "id": "4ec7abfa-9053-4c6d-9bcd-64e04980e9a8",
   "metadata": {},
   "outputs": [],
   "source": [
    "#model, best_epoch, train_losses, val_losses = model_trainer.train_model_transformer(Xtrain, ytrain, Xval, yval, path, epochs, model, 1e-3, config, Xtest)"
   ]
  },
  {
   "cell_type": "code",
   "execution_count": null,
   "id": "73efb465-6e0e-4b15-9c34-542cb93e520b",
   "metadata": {},
   "outputs": [],
   "source": []
  },
  {
   "cell_type": "code",
   "execution_count": null,
   "id": "48d51a1b-58ed-4f28-80c4-c3f9220962e5",
   "metadata": {},
   "outputs": [],
   "source": []
  },
  {
   "cell_type": "code",
   "execution_count": null,
   "id": "855fe771-b1ec-4e76-9e37-d81afde6ca59",
   "metadata": {},
   "outputs": [],
   "source": []
  },
  {
   "cell_type": "code",
   "execution_count": null,
   "id": "eb0302d7-5285-4b72-a0e5-e6fd6b723b1a",
   "metadata": {},
   "outputs": [],
   "source": [
    "# computational limitations\n",
    "# predictions weren't made at once\n",
    "# pickle library used to save the parts of the predictions\n",
    "# after the part-predictions are computed and saved one-by-one, they're completed and the evaluation continues"
   ]
  },
  {
   "cell_type": "code",
   "execution_count": 19,
   "id": "2a6021f9-9036-4caa-9943-f83bc9dc7811",
   "metadata": {},
   "outputs": [],
   "source": [
    "file_path1 = 'saved_models/tf_predict_price_predictions'\n",
    "file_path2 = 'saved_models/tf_predict_price_predictions2'\n",
    "file_path3 = 'saved_models/tf_predict_price_predictions3'\n",
    "file_path4 = 'saved_models/tf_predict_price_predictions4'"
   ]
  },
  {
   "cell_type": "code",
   "execution_count": 21,
   "id": "1f95bbad-1cd8-4e15-b2eb-7e6828e3609c",
   "metadata": {},
   "outputs": [],
   "source": [
    "import pickle\n",
    "# tmp0 = Xtest.shape[0]//4\n",
    "# tmp1 = tmp0+tmp0\n",
    "# tmp2 = tmp1+tmp0"
   ]
  },
  {
   "cell_type": "code",
   "execution_count": 21,
   "id": "b9491ad3-1b2b-4107-830f-d4c81e9874d2",
   "metadata": {},
   "outputs": [],
   "source": [
    "# file_path1 = 'saved_models/tf_predict_price_predictions'\n",
    "\n",
    "# with tf.device('/CPU:0'):\n",
    "#     pred1 = model(Xtest[:tmp0], target=None, training=False)\n",
    "\n",
    "# with open(file_path1, 'wb') as f:\n",
    "#     pickle.dump(pred1, f)"
   ]
  },
  {
   "cell_type": "code",
   "execution_count": 21,
   "id": "b5cb16f9-ae3d-4077-806d-b639d3f6e00d",
   "metadata": {},
   "outputs": [],
   "source": [
    "# file_path2 = 'saved_models/tf_predict_price_predictions2'\n",
    "\n",
    "# with tf.device('/CPU:0'):\n",
    "#     pred2 = model(Xtest[tmp0:tmp1], target=None, training=False)\n",
    "\n",
    "# with open(file_path2, 'wb') as f:\n",
    "#     pickle.dump(pred2, f)"
   ]
  },
  {
   "cell_type": "code",
   "execution_count": 21,
   "id": "4b8fd7b1-1970-4864-b7e9-4897d079f0db",
   "metadata": {},
   "outputs": [],
   "source": [
    "# file_path3 = 'saved_models/tf_predict_price_predictions3'\n",
    "\n",
    "# with tf.device('/CPU:0'):\n",
    "#     pred3 = model(Xtest[tmp1:tmp2], target=None, training=False)\n",
    "\n",
    "# with open(file_path3, 'wb') as f:\n",
    "#     pickle.dump(pred3, f)"
   ]
  },
  {
   "cell_type": "code",
   "execution_count": 21,
   "id": "85c99c4c-1b0d-4dbc-850f-ebc5d2ce7600",
   "metadata": {},
   "outputs": [],
   "source": [
    "# file_path4 = 'saved_models/tf_predict_price_predictions4'\n",
    "\n",
    "# with tf.device('/CPU:0'):\n",
    "#     pred4 = model(Xtest[tmp2:], target=None, training=False)\n",
    "\n",
    "# with open(file_path4, 'wb') as f:\n",
    "#     pickle.dump(pred4, f)"
   ]
  },
  {
   "cell_type": "code",
   "execution_count": null,
   "id": "87ce70de-d862-4498-8906-aa34ffe4315f",
   "metadata": {},
   "outputs": [],
   "source": []
  },
  {
   "cell_type": "code",
   "execution_count": 22,
   "id": "cb05c781-de73-4dba-9c4c-3be225f9a07c",
   "metadata": {},
   "outputs": [
    {
     "data": {
      "text/plain": [
       "(TensorShape([15963, 30, 1]), (15963, 96, 7))"
      ]
     },
     "execution_count": 22,
     "metadata": {},
     "output_type": "execute_result"
    }
   ],
   "source": [
    "with open(file_path1, 'rb') as f:\n",
    "    pred_part1 = pickle.load(f)\n",
    "\n",
    "with open(file_path2, 'rb') as f:\n",
    "    pred_part2 = pickle.load(f)\n",
    "\n",
    "with open(file_path3, 'rb') as f:\n",
    "    pred_part3 = pickle.load(f)\n",
    "\n",
    "with open(file_path4, 'rb') as f:\n",
    "    pred_part4 = pickle.load(f)\n",
    "\n",
    "pred = tf.concat([pred_part1, pred_part2, pred_part3, pred_part4], axis=0)\n",
    "\n",
    "pred.shape, Xtest.shape"
   ]
  },
  {
   "cell_type": "code",
   "execution_count": null,
   "id": "f5201d1a-84e5-4c9a-8e29-aadf686d7393",
   "metadata": {},
   "outputs": [],
   "source": []
  },
  {
   "cell_type": "markdown",
   "id": "3029483d-d47d-4054-9977-155dd2eb7cd6",
   "metadata": {},
   "source": [
    "### Evaluation"
   ]
  },
  {
   "cell_type": "code",
   "execution_count": 24,
   "id": "b586f1dc-a0ea-4ec4-bf50-4a88f44b5f23",
   "metadata": {},
   "outputs": [],
   "source": [
    "close_idx = 1\n",
    "last_closes_input_seqs = list(Xtest[:, -1, close_idx])\n",
    "last_closes_output_seqs = list(ytest[:, -1, 0])\n",
    "last_closes_pred_seqs = list(pred[:, -1, 0])"
   ]
  },
  {
   "cell_type": "code",
   "execution_count": 25,
   "id": "467587fb-b148-425e-9e91-93792285abfa",
   "metadata": {},
   "outputs": [],
   "source": [
    "real_price_movement = [a-b for a, b in zip(last_closes_output_seqs, last_closes_input_seqs)]\n",
    "pred_price_movement = [a-b for a, b in zip(last_closes_pred_seqs, last_closes_input_seqs)]"
   ]
  },
  {
   "cell_type": "code",
   "execution_count": 26,
   "id": "b09174c8-5d65-4c97-801e-8cae02c22633",
   "metadata": {},
   "outputs": [],
   "source": [
    "real_classes = data_processor.create_binary_classification_classes(real_price_movement, 0.0)\n",
    "pred_classes = data_processor.create_binary_classification_classes(pred_price_movement, 0.0)"
   ]
  },
  {
   "cell_type": "code",
   "execution_count": 27,
   "id": "3ea20591-7eb9-4144-9105-419377627863",
   "metadata": {},
   "outputs": [
    {
     "data": {
      "image/png": "[encoded data removed]",
      "text/plain": [
       "<Figure size 1200x600 with 2 Axes>"
      ]
     },
     "metadata": {},
     "output_type": "display_data"
    }
   ],
   "source": [
    "visualizer.pie_number_of_price_movements_binary(real_classes, pred_classes)"
   ]
  },
  {
   "cell_type": "code",
   "execution_count": 28,
   "id": "6ce078ca-090d-4baf-b760-e46349937d76",
   "metadata": {},
   "outputs": [
    {
     "data": {
      "text/html": [
       "<div>\n",
       "<style scoped>\n",
       "    .dataframe tbody tr th:only-of-type {\n",
       "        vertical-align: middle;\n",
       "    }\n",
       "\n",
       "    .dataframe tbody tr th {\n",
       "        vertical-align: top;\n",
       "    }\n",
       "\n",
       "    .dataframe thead th {\n",
       "        text-align: right;\n",
       "    }\n",
       "</style>\n",
       "<table border=\"1\" class=\"dataframe\">\n",
       "  <thead>\n",
       "    <tr style=\"text-align: right;\">\n",
       "      <th></th>\n",
       "      <th>Metric</th>\n",
       "      <th>Value</th>\n",
       "    </tr>\n",
       "  </thead>\n",
       "  <tbody>\n",
       "    <tr>\n",
       "      <th>0</th>\n",
       "      <td>Accuracy</td>\n",
       "      <td>0.481614</td>\n",
       "    </tr>\n",
       "    <tr>\n",
       "      <th>1</th>\n",
       "      <td>Precision</td>\n",
       "      <td>0.477347</td>\n",
       "    </tr>\n",
       "    <tr>\n",
       "      <th>2</th>\n",
       "      <td>Recall</td>\n",
       "      <td>0.348564</td>\n",
       "    </tr>\n",
       "    <tr>\n",
       "      <th>3</th>\n",
       "      <td>F1 Score</td>\n",
       "      <td>0.402915</td>\n",
       "    </tr>\n",
       "  </tbody>\n",
       "</table>\n",
       "</div>"
      ],
      "text/plain": [
       "      Metric     Value\n",
       "0   Accuracy  0.481614\n",
       "1  Precision  0.477347\n",
       "2     Recall  0.348564\n",
       "3   F1 Score  0.402915"
      ]
     },
     "execution_count": 28,
     "metadata": {},
     "output_type": "execute_result"
    }
   ],
   "source": [
    "accuracy, precision, recall, f1 = data_processor.create_metrics_from_classes_binary(real_classes, pred_classes)\n",
    "visualizer.create_metrics_df(accuracy, precision, recall, f1)"
   ]
  },
  {
   "cell_type": "code",
   "execution_count": null,
   "id": "25f1361b-5b21-42ef-a0f3-c7946fdbc60e",
   "metadata": {},
   "outputs": [],
   "source": []
  },
  {
   "cell_type": "code",
   "execution_count": 29,
   "id": "f175169a-4e35-43e8-b1af-11376da6dabc",
   "metadata": {},
   "outputs": [],
   "source": [
    "cm = confusion_matrix(real_classes, pred_classes)"
   ]
  },
  {
   "cell_type": "code",
   "execution_count": 30,
   "id": "655147c4-cb04-402f-828e-80e993f1310c",
   "metadata": {},
   "outputs": [
    {
     "data": {
      "image/png": "[encoded data removed]",
      "text/plain": [
       "<Figure size 640x480 with 2 Axes>"
      ]
     },
     "metadata": {},
     "output_type": "display_data"
    }
   ],
   "source": [
    "visualizer.plot_heatmap_from_cm(cm)"
   ]
  },
  {
   "cell_type": "code",
   "execution_count": null,
   "id": "c140c542-32ad-4544-851c-49ae5a130683",
   "metadata": {},
   "outputs": [],
   "source": []
  }
 ],
 "metadata": {
  "kernelspec": {
   "display_name": "Python 3 (ipykernel)",
   "language": "python",
   "name": "python3"
  },
  "language_info": {
   "codemirror_mode": {
    "name": "ipython",
    "version": 3
   },
   "file_extension": ".py",
   "mimetype": "text/x-python",
   "name": "python",
   "nbconvert_exporter": "python",
   "pygments_lexer": "ipython3",
   "version": "3.11.8"
  }
 },
 "nbformat": 4,
 "nbformat_minor": 5
}
