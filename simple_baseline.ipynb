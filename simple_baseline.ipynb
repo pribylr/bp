{
 "cells": [
  {
   "cell_type": "markdown",
   "id": "dad8edac-e902-4fc7-8db9-0ddef5ed46d0",
   "metadata": {},
   "source": [
    "This file implements a baseline model that is based on the assumption that if the price increases/decreases during a number of time steps, it will increase/decrease during the following number of time steps. Both of the time steps are predefined; they are the same values as input and output sequence lengths in other notebooks in this project, the notebooks with transformer or autoformer models.<br>\n",
    "\n",
    "This baseline model works with the same target variable as other models, the closing price of a currency pair."
   ]
  },
  {
   "cell_type": "code",
   "execution_count": 1,
   "id": "f8917463-cbe5-4db6-8cae-7bbcddcb065b",
   "metadata": {},
   "outputs": [
    {
     "name": "stderr",
     "output_type": "stream",
     "text": [
      "2024-10-23 22:22:55.941602: I tensorflow/core/util/port.cc:111] oneDNN custom operations are on. You may see slightly different numerical results due to floating-point round-off errors from different computation orders. To turn them off, set the environment variable `TF_ENABLE_ONEDNN_OPTS=0`.\n",
      "2024-10-23 22:22:55.964521: E tensorflow/compiler/xla/stream_executor/cuda/cuda_dnn.cc:9342] Unable to register cuDNN factory: Attempting to register factory for plugin cuDNN when one has already been registered\n",
      "2024-10-23 22:22:55.964539: E tensorflow/compiler/xla/stream_executor/cuda/cuda_fft.cc:609] Unable to register cuFFT factory: Attempting to register factory for plugin cuFFT when one has already been registered\n",
      "2024-10-23 22:22:55.964557: E tensorflow/compiler/xla/stream_executor/cuda/cuda_blas.cc:1518] Unable to register cuBLAS factory: Attempting to register factory for plugin cuBLAS when one has already been registered\n",
      "2024-10-23 22:22:55.969209: I tensorflow/core/platform/cpu_feature_guard.cc:182] This TensorFlow binary is optimized to use available CPU instructions in performance-critical operations.\n",
      "To enable the following instructions: AVX2 AVX512F AVX512_VNNI FMA, in other operations, rebuild TensorFlow with the appropriate compiler flags.\n",
      "2024-10-23 22:22:56.488808: W tensorflow/compiler/tf2tensorrt/utils/py_utils.cc:38] TF-TRT Warning: Could not find TensorRT\n"
     ]
    }
   ],
   "source": [
    "from imports import *"
   ]
  },
  {
   "cell_type": "code",
   "execution_count": 2,
   "id": "f4bb6b5f-452d-487d-9841-a79ad00578aa",
   "metadata": {},
   "outputs": [],
   "source": [
    "sys.path.append('src')\n",
    "from process_data import DataProcessor\n",
    "from autoformer import Autoformer\n",
    "from visualize_data import Visualizer\n",
    "from train_model import ModelTrainer\n",
    "from load_data import DataLoader\n",
    "model_trainer = ModelTrainer()\n",
    "data_processor = DataProcessor()\n",
    "visualizer = Visualizer()\n",
    "data_loader = DataLoader()"
   ]
  },
  {
   "cell_type": "code",
   "execution_count": 3,
   "id": "65113d48-7c4a-4421-817a-b131892f2192",
   "metadata": {},
   "outputs": [],
   "source": [
    "eurusd15m, _ = data_loader.load_eurusd_15min()\n",
    "usdcad1min, _ = data_loader.load_usdcad_1min()\n",
    "gbpusd5min, _ = data_loader.load_gpbusd_5min()"
   ]
  },
  {
   "cell_type": "code",
   "execution_count": 4,
   "id": "6e2d4f64-6f55-43ba-aad9-ee5b0d6562f2",
   "metadata": {},
   "outputs": [],
   "source": [
    "train_pct = 0.6\n",
    "val_pct = 0.2"
   ]
  },
  {
   "cell_type": "code",
   "execution_count": 5,
   "id": "f4f59178-85f0-46c7-8c9c-b4a3c1644468",
   "metadata": {},
   "outputs": [],
   "source": [
    "eurusd15m = eurusd15m[['close']]\n",
    "usdcad1min = usdcad1min[['close']]\n",
    "gbpusd5min = gbpusd5min[['close']]"
   ]
  },
  {
   "cell_type": "code",
   "execution_count": null,
   "id": "12a51e05-d3d4-4e2d-bda1-b72ed39a68f5",
   "metadata": {},
   "outputs": [],
   "source": []
  },
  {
   "cell_type": "code",
   "execution_count": null,
   "id": "b0332ba7-618c-4f28-ad82-9d8d1392448d",
   "metadata": {},
   "outputs": [],
   "source": []
  },
  {
   "cell_type": "markdown",
   "id": "8ace154c-1531-41d5-8f34-32f0d54fef21",
   "metadata": {},
   "source": [
    "The following function evaluates the baseline model. It receives a dataset with just a closing price, creates input and output sequences corresponding to the lengths used in other notebooks, and splits them into training, validation, and testing sets. As is done with real models, the evaluation of this one is done on the test set."
   ]
  },
  {
   "cell_type": "code",
   "execution_count": 6,
   "id": "5eb72da1-75ce-49cc-9a60-65ef71cd6ff3",
   "metadata": {},
   "outputs": [],
   "source": [
    "def determine_price_movement(data, len_in, len_out):\n",
    "    Xdata, ydata = model_trainer.create_Xy_data(data, data, len_in, len_out)\n",
    "    _, _, _, _, Xtest, ytest = model_trainer.split_data(Xdata, ydata, train_pct, val_pct)\n",
    "    in_move = []\n",
    "    out_move = []\n",
    "    for i in range(0, Xtest.shape[0]):\n",
    "        # for each sequence:\n",
    "        # compare prices at the start and end of the input sequence and determine increase/decrease\n",
    "        # compate prices at the end of the input sequence and the end of the output sequence\n",
    "        # if both determinations are the same, the prediction is correct, else it is not\n",
    "        first_in = Xtest[i, 0, 0]\n",
    "        last_in = Xtest[i, -1, 0]\n",
    "        last_out = ytest[i, -1, 0]\n",
    "    \n",
    "        if first_in < last_in:\n",
    "            in_move.append(1)\n",
    "        else:\n",
    "            in_move.append(0)\n",
    "\n",
    "        if last_in < last_out:\n",
    "            out_move.append(1)\n",
    "        else:\n",
    "            out_move.append(0)\n",
    "    print('Accuracy: ', accuracy_score(in_move, out_move))\n",
    "    print('Precision:', precision_score(in_move, out_move))\n",
    "    print('Recall:   ', recall_score(in_move, out_move))\n",
    "    print('F1 score  ', f1_score(in_move, out_move))"
   ]
  },
  {
   "cell_type": "code",
   "execution_count": null,
   "id": "fa0bc627-6f97-498b-a0ee-db6b97550798",
   "metadata": {},
   "outputs": [],
   "source": []
  },
  {
   "cell_type": "code",
   "execution_count": null,
   "id": "4f7cdeb2-c29f-4da7-9745-7b8b14a9dac4",
   "metadata": {},
   "outputs": [],
   "source": []
  },
  {
   "cell_type": "markdown",
   "id": "65239cdc-328a-459c-99e2-95df863632ee",
   "metadata": {},
   "source": [
    "## USD/CAD\n",
    "Notebook: autoformer_predict_price, transformer_predict_price<br>\n",
    "\n",
    "Both notebooks use input length 96, and output length 30."
   ]
  },
  {
   "cell_type": "code",
   "execution_count": 7,
   "id": "fc555d74-6aa4-44fb-ba42-783a8c5f7827",
   "metadata": {},
   "outputs": [
    {
     "name": "stdout",
     "output_type": "stream",
     "text": [
      "Accuracy:  0.49383411580594677\n",
      "Precision: 0.4858242463117383\n",
      "Recall:    0.48150031786395425\n",
      "F1 score   0.48365261813537674\n"
     ]
    }
   ],
   "source": [
    "input_seq_len = 96\n",
    "output_seq_len = 30\n",
    "determine_price_movement(usdcad1min, 96, 30)"
   ]
  },
  {
   "cell_type": "code",
   "execution_count": null,
   "id": "2a7bc644-44eb-404e-8c76-55f2c47f766c",
   "metadata": {},
   "outputs": [],
   "source": []
  },
  {
   "cell_type": "markdown",
   "id": "5627dda4-b6f3-4cdc-b84d-2425017bdf7b",
   "metadata": {},
   "source": [
    "## EUR/USD\n",
    "Notebooks:<br>\n",
    "autoformer_predict_price_move: lengths: 64-8<br>\n",
    "transformer_out_seq: lengths: 64-4, 64-8, 64-16"
   ]
  },
  {
   "cell_type": "code",
   "execution_count": 8,
   "id": "052314b7-ca99-4f4a-aacd-1e5d4ad5cb5b",
   "metadata": {},
   "outputs": [
    {
     "name": "stdout",
     "output_type": "stream",
     "text": [
      "Accuracy:  0.48939257480236165\n",
      "Precision: 0.49762423282518314\n",
      "Recall:    0.49492960519838536\n",
      "F1 score   0.49627326126659754\n"
     ]
    }
   ],
   "source": [
    "input_seq_len = 64\n",
    "output_seq_len = 8\n",
    "determine_price_movement(eurusd15m, input_seq_len, output_seq_len)"
   ]
  },
  {
   "cell_type": "code",
   "execution_count": 9,
   "id": "ef2b6e3d-37c7-4c18-b910-4aaae05d5004",
   "metadata": {},
   "outputs": [
    {
     "name": "stdout",
     "output_type": "stream",
     "text": [
      "Accuracy:  0.4892680242157402\n",
      "Precision: 0.4976090854751943\n",
      "Recall:    0.49163385826771655\n",
      "F1 score   0.49460342608179025\n"
     ]
    }
   ],
   "source": [
    "input_seq_len = 64\n",
    "output_seq_len = 4\n",
    "determine_price_movement(eurusd15m, input_seq_len, output_seq_len)"
   ]
  },
  {
   "cell_type": "code",
   "execution_count": 10,
   "id": "a7af1e06-67a2-45d5-ae9a-69f6192f2672",
   "metadata": {},
   "outputs": [
    {
     "name": "stdout",
     "output_type": "stream",
     "text": [
      "Accuracy:  0.4865392313851081\n",
      "Precision: 0.4944510503369005\n",
      "Recall:    0.4916740565572963\n",
      "F1 score   0.4930586433476607\n"
     ]
    }
   ],
   "source": [
    "input_seq_len = 64\n",
    "output_seq_len = 16\n",
    "determine_price_movement(eurusd15m, input_seq_len, output_seq_len)"
   ]
  },
  {
   "cell_type": "code",
   "execution_count": null,
   "id": "165d6e2d-d394-45cb-8b66-8561961f1436",
   "metadata": {},
   "outputs": [],
   "source": []
  },
  {
   "cell_type": "markdown",
   "id": "6ce4930a-f5e8-488a-a9a1-361466915be3",
   "metadata": {},
   "source": [
    "## GBP/USD\n",
    "Notebook:<br>\n",
    "transformer_in_seq: lengths: 32-8, 16-8, 8-8"
   ]
  },
  {
   "cell_type": "code",
   "execution_count": 11,
   "id": "56e6b4a0-c815-4aa3-96f7-959ef311dcdb",
   "metadata": {},
   "outputs": [
    {
     "name": "stdout",
     "output_type": "stream",
     "text": [
      "Accuracy:  0.47335945968481613\n",
      "Precision: 0.4774987358840384\n",
      "Recall:    0.4683418746900314\n",
      "F1 score   0.4728759806376231\n"
     ]
    }
   ],
   "source": [
    "input_seq_len = 32\n",
    "output_seq_len = 8\n",
    "determine_price_movement(gbpusd5min, input_seq_len, output_seq_len)"
   ]
  },
  {
   "cell_type": "code",
   "execution_count": 12,
   "id": "2449d8a4-b70a-45aa-956c-6e52d256b046",
   "metadata": {},
   "outputs": [
    {
     "name": "stdout",
     "output_type": "stream",
     "text": [
      "Accuracy:  0.48124374791597196\n",
      "Precision: 0.47395921119164\n",
      "Recall:    0.47548190733851875\n",
      "F1 score   0.4747193382290875\n"
     ]
    }
   ],
   "source": [
    "input_seq_len = 16\n",
    "output_seq_len = 8\n",
    "determine_price_movement(gbpusd5min, input_seq_len, output_seq_len)"
   ]
  },
  {
   "cell_type": "code",
   "execution_count": 13,
   "id": "dcb863e8-61b1-4d94-88f3-2f5b8531f759",
   "metadata": {},
   "outputs": [
    {
     "name": "stdout",
     "output_type": "stream",
     "text": [
      "Accuracy:  0.48670500958572976\n",
      "Precision: 0.4832293949098264\n",
      "Recall:    0.48112099345527776\n",
      "F1 score   0.4821728893373697\n"
     ]
    }
   ],
   "source": [
    "input_seq_len = 8\n",
    "output_seq_len = 8\n",
    "determine_price_movement(gbpusd5min, input_seq_len, output_seq_len)"
   ]
  },
  {
   "cell_type": "code",
   "execution_count": null,
   "id": "8b02a451-f8f7-4ba9-b0b5-3aa5c5187e0c",
   "metadata": {},
   "outputs": [],
   "source": []
  },
  {
   "cell_type": "code",
   "execution_count": null,
   "id": "a6855a25-9ff2-47af-ba1a-4f29ef75bf17",
   "metadata": {},
   "outputs": [],
   "source": []
  }
 ],
 "metadata": {
  "kernelspec": {
   "display_name": "Python 3 (ipykernel)",
   "language": "python",
   "name": "python3"
  },
  "language_info": {
   "codemirror_mode": {
    "name": "ipython",
    "version": 3
   },
   "file_extension": ".py",
   "mimetype": "text/x-python",
   "name": "python",
   "nbconvert_exporter": "python",
   "pygments_lexer": "ipython3",
   "version": "3.11.8"
  }
 },
 "nbformat": 4,
 "nbformat_minor": 5
}
