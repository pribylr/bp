{
 "cells": [
  {
   "cell_type": "markdown",
   "id": "5a0bcc0c-b0b9-4f31-ba66-19301deec05f",
   "metadata": {},
   "source": [
    "Autoformer model; predicting price<br>\n",
    "USD/CAD currency pair"
   ]
  },
  {
   "cell_type": "code",
   "execution_count": 1,
   "id": "324217b0-9ddb-4c79-98ec-effea8054ba0",
   "metadata": {
    "scrolled": true
   },
   "outputs": [
    {
     "name": "stderr",
     "output_type": "stream",
     "text": [
      "2024-06-27 17:02:10.001518: I tensorflow/core/util/port.cc:111] oneDNN custom operations are on. You may see slightly different numerical results due to floating-point round-off errors from different computation orders. To turn them off, set the environment variable `TF_ENABLE_ONEDNN_OPTS=0`.\n",
      "2024-06-27 17:02:10.023294: E tensorflow/compiler/xla/stream_executor/cuda/cuda_dnn.cc:9342] Unable to register cuDNN factory: Attempting to register factory for plugin cuDNN when one has already been registered\n",
      "2024-06-27 17:02:10.023312: E tensorflow/compiler/xla/stream_executor/cuda/cuda_fft.cc:609] Unable to register cuFFT factory: Attempting to register factory for plugin cuFFT when one has already been registered\n",
      "2024-06-27 17:02:10.023327: E tensorflow/compiler/xla/stream_executor/cuda/cuda_blas.cc:1518] Unable to register cuBLAS factory: Attempting to register factory for plugin cuBLAS when one has already been registered\n",
      "2024-06-27 17:02:10.027271: I tensorflow/core/platform/cpu_feature_guard.cc:182] This TensorFlow binary is optimized to use available CPU instructions in performance-critical operations.\n",
      "To enable the following instructions: AVX2 AVX512F AVX512_VNNI FMA, in other operations, rebuild TensorFlow with the appropriate compiler flags.\n",
      "2024-06-27 17:02:10.486125: W tensorflow/compiler/tf2tensorrt/utils/py_utils.cc:38] TF-TRT Warning: Could not find TensorRT\n"
     ]
    }
   ],
   "source": [
    "from imports import *"
   ]
  },
  {
   "cell_type": "code",
   "execution_count": 2,
   "id": "429b960b-3a77-47d9-94db-c807425da6e5",
   "metadata": {},
   "outputs": [],
   "source": [
    "sys.path.append('src')\n",
    "from process_data import DataProcessor\n",
    "from autoformer import Autoformer\n",
    "from visualize_data import Visualizer\n",
    "from train_model import ModelTrainer\n",
    "from load_data import DataLoader\n",
    "model_trainer = ModelTrainer()\n",
    "data_processor = DataProcessor()\n",
    "visualizer = Visualizer()\n",
    "data_loader = DataLoader()"
   ]
  },
  {
   "cell_type": "code",
   "execution_count": null,
   "id": "94761990-2017-4d35-a719-6fe28440fec1",
   "metadata": {},
   "outputs": [],
   "source": [
    "# data pre-processing\n",
    "# applying butterworth filter to prices, adding technical indicators"
   ]
  },
  {
   "cell_type": "code",
   "execution_count": 3,
   "id": "13beb8fe-e479-4e5b-a2a9-da44956536f5",
   "metadata": {},
   "outputs": [],
   "source": [
    "data, pip_factor = data_loader.load_usdcad_1min()"
   ]
  },
  {
   "cell_type": "code",
   "execution_count": 4,
   "id": "70caaf21-dc8d-485c-8e16-69670e8de6fc",
   "metadata": {},
   "outputs": [],
   "source": [
    "input_seq_len = 96\n",
    "output_seq_len = 30\n",
    "\n",
    "train_pct = 0.6\n",
    "val_pct = 0.2"
   ]
  },
  {
   "cell_type": "code",
   "execution_count": 5,
   "id": "63420d5c-dc09-40db-89bd-40de0c74118c",
   "metadata": {},
   "outputs": [],
   "source": [
    "b, a = butter(5, 1/12, btype='low', analog=False)\n",
    "data['bw_close'] = filtfilt(b, a, data['close'])"
   ]
  },
  {
   "cell_type": "code",
   "execution_count": 6,
   "id": "3071fa23-e249-4d71-ab8e-5b5fc3f86a38",
   "metadata": {},
   "outputs": [],
   "source": [
    "data['rsi_close_15'] = abstract.RSI(data, timeperiod=15, price='close')\n",
    "data['rsi_close_60'] = abstract.RSI(data, timeperiod=60, price='close')\n",
    "data['atr_14'] = abstract.ATR(data, timeperiod=14)\n",
    "slowk, slowd = talib.STOCH(data['high'], data['low'], data['close'])\n",
    "data['slowk'] = slowk\n",
    "data['slowd'] = slowd\n"
   ]
  },
  {
   "cell_type": "code",
   "execution_count": 7,
   "id": "8f55d685-9417-4922-be2f-a0e520720072",
   "metadata": {},
   "outputs": [],
   "source": [
    "data.dropna(how='any', axis=0, inplace=True)"
   ]
  },
  {
   "cell_type": "code",
   "execution_count": 8,
   "id": "f0f655d3-f936-4768-b73a-c16505a1db8e",
   "metadata": {},
   "outputs": [],
   "source": [
    "data, norm_params = data_processor.normalize_custom(data, train_pct, ['volume', 'rsi_close_15', 'rsi_close_60', 'atr_14', 'slowk', 'slowd', 'bw_close', 'close'])"
   ]
  },
  {
   "cell_type": "code",
   "execution_count": 9,
   "id": "8deea380-d2e3-4928-a1c1-73b85c2f0007",
   "metadata": {},
   "outputs": [],
   "source": [
    "# keep information about the target variable and the time, for evaluation\n",
    "target_time = data[['time', 'bw_close', 'close']]"
   ]
  },
  {
   "cell_type": "code",
   "execution_count": 10,
   "id": "f999b31a-2c06-4f80-8f30-92da8bed7afa",
   "metadata": {},
   "outputs": [],
   "source": [
    "target = data[['close', 'bw_close']]"
   ]
  },
  {
   "cell_type": "code",
   "execution_count": 11,
   "id": "5319ed5b-825e-4c57-88f2-ca41e8633a06",
   "metadata": {},
   "outputs": [],
   "source": [
    "# keep the filtered prices, not the original\n",
    "data.drop(['open', 'high', 'low', 'close'], axis=1, inplace=True)"
   ]
  },
  {
   "cell_type": "code",
   "execution_count": null,
   "id": "8092e690-eb0a-4b99-ab1e-1cce958f5cc6",
   "metadata": {},
   "outputs": [],
   "source": [
    "# data splitting --- input - output sequences, and train-val-test"
   ]
  },
  {
   "cell_type": "code",
   "execution_count": 12,
   "id": "3e027f59-a9cf-46c1-af93-aca368eada02",
   "metadata": {},
   "outputs": [],
   "source": [
    "Xdata, ydata = model_trainer.create_Xy_data(data, target, input_seq_len, output_seq_len)"
   ]
  },
  {
   "cell_type": "code",
   "execution_count": 13,
   "id": "f7fe3d6b-8dcd-458e-9705-3ba9a6f2e6de",
   "metadata": {},
   "outputs": [],
   "source": [
    "# shuffle the sequences, to avoid teaching the model patterns from a specific time\n",
    "np.random.seed(42)\n",
    "shuffled_indices = np.random.permutation(Xdata.shape[0])\n",
    "Xdata = Xdata[shuffled_indices]\n",
    "ydata = ydata[shuffled_indices]"
   ]
  },
  {
   "cell_type": "code",
   "execution_count": 14,
   "id": "701fc788-8c79-4a0c-b112-cc27ba870a41",
   "metadata": {},
   "outputs": [],
   "source": [
    "Xtrain_time, ytrain_c, Xval_time, yval_c, Xtest_time, ytest_c = model_trainer.split_data(Xdata, ydata, train_pct, val_pct)"
   ]
  },
  {
   "cell_type": "code",
   "execution_count": 15,
   "id": "3ff0db4d-3ac3-4089-8bdb-69bb69dd8efd",
   "metadata": {},
   "outputs": [],
   "source": [
    "# discard time column\n",
    "Xtrain = (Xtrain_time[:, :, 1:]).astype(np.float64)\n",
    "Xval = (Xval_time[:, :, 1:]).astype(np.float64)\n",
    "Xtest = (Xtest_time[:, :, 1:]).astype(np.float64)\n",
    "\n",
    "# discard original close price column, keep only filtered close price column\n",
    "ytrain = ytrain_c[:, :, 1:]\n",
    "yval = yval_c[:, :, 1:]\n",
    "ytest = ytest_c[:, :, 1:]"
   ]
  },
  {
   "cell_type": "code",
   "execution_count": 16,
   "id": "7f237e24-0595-48fa-adf1-521cf12a83bf",
   "metadata": {},
   "outputs": [],
   "source": [
    "# parameters of the model\n",
    "config = {\n",
    "    'input_seq_len': input_seq_len,\n",
    "    'O': output_seq_len,\n",
    "    'pool_size': 64,\n",
    "    'ac_heads': 4,\n",
    "    'c': 4,\n",
    "    'encoder_layers': 1,\n",
    "    'd_model': 32,\n",
    "    'd_ff': 32,\n",
    "    'dropout_rate': 0.1,\n",
    "    'decoder_layers': 1,\n",
    "    'd_out': ytrain.shape[-1],\n",
    "    'd_data': Xtrain.shape[-1],\n",
    "    'batch_size': 32\n",
    "}"
   ]
  },
  {
   "cell_type": "code",
   "execution_count": 17,
   "id": "3428996d-c4e3-4f8d-aa86-1a4cdde90ed9",
   "metadata": {},
   "outputs": [
    {
     "name": "stderr",
     "output_type": "stream",
     "text": [
      "2024-06-27 17:02:20.640693: I tensorflow/core/common_runtime/gpu/gpu_device.cc:1886] Created device /job:localhost/replica:0/task:0/device:GPU:0 with 9439 MB memory:  -> device: 0, name: NVIDIA GeForce RTX 3060, pci bus id: 0000:01:00.0, compute capability: 8.6\n"
     ]
    }
   ],
   "source": [
    "# Note: model trained on more epochs than this, but for computational limitations the model was regularly saved and loaded again to continue training\n",
    "epochs = 10\n",
    "\n",
    "path = 'saved_models/af-absolute-96in-30out.h5'\n",
    "\n",
    "#model = model_trainer.load_model_autoformer(path, Xtest, config)\n",
    "\n",
    "model = Autoformer(config)"
   ]
  },
  {
   "cell_type": "code",
   "execution_count": 18,
   "id": "c3dc6d5f-6add-4462-a04f-3178cbd0ee52",
   "metadata": {},
   "outputs": [
    {
     "name": "stderr",
     "output_type": "stream",
     "text": [
      "2024-06-27 17:02:20.999490: I tensorflow/compiler/xla/stream_executor/cuda/cuda_dnn.cc:442] Loaded cuDNN version 8904\n",
      "2024-06-27 17:02:22.165810: I tensorflow/compiler/xla/service/service.cc:168] XLA service 0x557af3580210 initialized for platform CUDA (this does not guarantee that XLA will be used). Devices:\n",
      "2024-06-27 17:02:22.165826: I tensorflow/compiler/xla/service/service.cc:176]   StreamExecutor device (0): NVIDIA GeForce RTX 3060, Compute Capability 8.6\n",
      "2024-06-27 17:02:22.169175: I tensorflow/compiler/mlir/tensorflow/utils/dump_mlir_util.cc:269] disabling MLIR crash reproducer, set env var `MLIR_CRASH_REPRODUCER_DIRECTORY` to enable.\n",
      "2024-06-27 17:02:22.222962: I ./tensorflow/compiler/jit/device_compiler.h:186] Compiled cluster using XLA!  This line is logged at most once for the lifetime of the process.\n"
     ]
    },
    {
     "name": "stdout",
     "output_type": "stream",
     "text": [
      "Epoch: 0, Loss: 0.0024296321686569813, Val Loss: 0.014241984806030814, Val loss improved\n",
      "Epoch: 1, Loss: 0.0004465478210514032, Val Loss: 0.003323447374635522, Val loss improved\n",
      "Epoch: 2, Loss: 0.00034302037372838264, Val Loss: 0.008896539583374417\n",
      "Epoch: 3, Loss: 0.0003146796719325559, Val Loss: 0.018236249187227226\n",
      "Epoch: 4, Loss: 0.0002986310458104973, Val Loss: 0.052020378102087796\n",
      "Epoch: 5, Loss: 0.00028337371460407883, Val Loss: 0.066639647234092\n",
      "Epoch: 6, Loss: 0.0002788844706584129, Val Loss: 0.06699554100059799\n",
      "Epoch: 7, Loss: 0.0002669086760037775, Val Loss: 0.0762332462055354\n",
      "Epoch: 8, Loss: 0.0002635211528303856, Val Loss: 0.09091268517468166\n",
      "Epoch: 9, Loss: 0.0002604353836870782, Val Loss: 0.07038224265711121\n",
      "Model with the best validation loss at epoch 1 is reloaded\n"
     ]
    }
   ],
   "source": [
    "model, best_epoch, train_losses, val_losses = model_trainer.train_model_autoformer(Xtrain, ytrain, Xval, yval, path, epochs, model, 1e-3, config, Xtest)"
   ]
  },
  {
   "cell_type": "code",
   "execution_count": 19,
   "id": "11906b70-9087-4d97-b869-3a56c8b35973",
   "metadata": {},
   "outputs": [],
   "source": [
    "pred = model(Xtest, training=False)"
   ]
  },
  {
   "cell_type": "code",
   "execution_count": null,
   "id": "7d7ed630-e7d9-44eb-8770-b45455f4874c",
   "metadata": {},
   "outputs": [],
   "source": []
  },
  {
   "cell_type": "code",
   "execution_count": null,
   "id": "39f5ac1b-7a0b-4d63-b07c-7e6792023f6b",
   "metadata": {},
   "outputs": [],
   "source": []
  },
  {
   "cell_type": "code",
   "execution_count": null,
   "id": "01714323-bca9-45cb-9dac-7e61d25deb1c",
   "metadata": {},
   "outputs": [],
   "source": [
    "# compute evaluation --- binary classification"
   ]
  },
  {
   "cell_type": "code",
   "execution_count": 20,
   "id": "f993cb4c-c41a-487e-8305-36e137ce8f75",
   "metadata": {},
   "outputs": [],
   "source": [
    "close_idx = 1\n",
    "last_closes_input_seqs = list(Xtest[:, -1, close_idx])\n",
    "last_closes_output_seqs = list(ytest[:, -1, 0])\n",
    "last_closes_pred_seqs = list(pred[:, -1, 0])"
   ]
  },
  {
   "cell_type": "code",
   "execution_count": 21,
   "id": "0580e00b-6582-4b91-a5ae-928b3be22e52",
   "metadata": {},
   "outputs": [],
   "source": [
    "real_price_movement = [a-b for a, b in zip(last_closes_output_seqs, last_closes_input_seqs)]\n",
    "pred_price_movement = [a-b for a, b in zip(last_closes_pred_seqs, last_closes_input_seqs)]"
   ]
  },
  {
   "cell_type": "code",
   "execution_count": 22,
   "id": "064a1b89-9565-477f-901c-cffe9c9edbc5",
   "metadata": {},
   "outputs": [],
   "source": [
    "real_classes = data_processor.create_binary_classification_classes(real_price_movement, 0.0)\n",
    "pred_classes = data_processor.create_binary_classification_classes(pred_price_movement, 0.0)"
   ]
  },
  {
   "cell_type": "code",
   "execution_count": 23,
   "id": "f8cc3ba0-67f9-4d90-9319-9b8e6b8e403e",
   "metadata": {},
   "outputs": [
    {
     "data": {
      "image/png": "[encoded data removed]",
      "text/plain": [
       "<Figure size 1200x600 with 2 Axes>"
      ]
     },
     "metadata": {},
     "output_type": "display_data"
    }
   ],
   "source": [
    "visualizer.pie_number_of_price_movements_binary(real_classes, pred_classes)"
   ]
  },
  {
   "cell_type": "code",
   "execution_count": 24,
   "id": "4e7f6d24-4a2b-4259-b8e4-d918b7e05419",
   "metadata": {},
   "outputs": [
    {
     "data": {
      "text/html": [
       "<div>\n",
       "<style scoped>\n",
       "    .dataframe tbody tr th:only-of-type {\n",
       "        vertical-align: middle;\n",
       "    }\n",
       "\n",
       "    .dataframe tbody tr th {\n",
       "        vertical-align: top;\n",
       "    }\n",
       "\n",
       "    .dataframe thead th {\n",
       "        text-align: right;\n",
       "    }\n",
       "</style>\n",
       "<table border=\"1\" class=\"dataframe\">\n",
       "  <thead>\n",
       "    <tr style=\"text-align: right;\">\n",
       "      <th></th>\n",
       "      <th>Metric</th>\n",
       "      <th>Value</th>\n",
       "    </tr>\n",
       "  </thead>\n",
       "  <tbody>\n",
       "    <tr>\n",
       "      <th>0</th>\n",
       "      <td>Accuracy</td>\n",
       "      <td>0.513061</td>\n",
       "    </tr>\n",
       "    <tr>\n",
       "      <th>1</th>\n",
       "      <td>Precision</td>\n",
       "      <td>0.513328</td>\n",
       "    </tr>\n",
       "    <tr>\n",
       "      <th>2</th>\n",
       "      <td>Recall</td>\n",
       "      <td>0.569788</td>\n",
       "    </tr>\n",
       "    <tr>\n",
       "      <th>3</th>\n",
       "      <td>F1 Score</td>\n",
       "      <td>0.540086</td>\n",
       "    </tr>\n",
       "  </tbody>\n",
       "</table>\n",
       "</div>"
      ],
      "text/plain": [
       "      Metric     Value\n",
       "0   Accuracy  0.513061\n",
       "1  Precision  0.513328\n",
       "2     Recall  0.569788\n",
       "3   F1 Score  0.540086"
      ]
     },
     "execution_count": 24,
     "metadata": {},
     "output_type": "execute_result"
    }
   ],
   "source": [
    "accuracy, precision, recall, f1 = data_processor.create_metrics_from_classes_binary(real_classes, pred_classes)\n",
    "visualizer.create_metrics_df(accuracy, precision, recall, f1)"
   ]
  },
  {
   "cell_type": "code",
   "execution_count": null,
   "id": "9bd93808-0bf2-4161-8f22-20e287159ddd",
   "metadata": {},
   "outputs": [],
   "source": []
  },
  {
   "cell_type": "code",
   "execution_count": 26,
   "id": "6b0f5e78-c56e-472b-be3d-6ab567bf002d",
   "metadata": {},
   "outputs": [],
   "source": [
    "cm = confusion_matrix(real_classes, pred_classes)"
   ]
  },
  {
   "cell_type": "code",
   "execution_count": 30,
   "id": "c1fe71cc-ec53-4f7b-a529-c4a15dfb32bf",
   "metadata": {},
   "outputs": [
    {
     "data": {
      "image/png": "[encoded data removed]",
      "text/plain": [
       "<Figure size 700x500 with 2 Axes>"
      ]
     },
     "metadata": {},
     "output_type": "display_data"
    }
   ],
   "source": [
    "plt.figure(figsize=(7, 5))\n",
    "sns.heatmap(cm, annot=True, fmt='d', cmap='Blues', xticklabels=[0, 1], yticklabels=[0, 1])\n",
    "plt.xlabel('Predicted')\n",
    "plt.ylabel('Actual')\n",
    "plt.title('Confusion Matrix')\n",
    "plt.show()"
   ]
  },
  {
   "cell_type": "code",
   "execution_count": null,
   "id": "f2bc60de-a176-42a9-86c0-1b6aa995df88",
   "metadata": {},
   "outputs": [],
   "source": []
  }
 ],
 "metadata": {
  "kernelspec": {
   "display_name": "Python 3 (ipykernel)",
   "language": "python",
   "name": "python3"
  },
  "language_info": {
   "codemirror_mode": {
    "name": "ipython",
    "version": 3
   },
   "file_extension": ".py",
   "mimetype": "text/x-python",
   "name": "python",
   "nbconvert_exporter": "python",
   "pygments_lexer": "ipython3",
   "version": "3.11.8"
  }
 },
 "nbformat": 4,
 "nbformat_minor": 5
}
