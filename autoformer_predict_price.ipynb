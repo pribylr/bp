{
 "cells": [
  {
   "cell_type": "code",
   "execution_count": 1,
   "id": "324217b0-9ddb-4c79-98ec-effea8054ba0",
   "metadata": {
    "scrolled": true
   },
   "outputs": [
    {
     "name": "stderr",
     "output_type": "stream",
     "text": [
      "2024-06-27 11:56:50.444412: I tensorflow/core/util/port.cc:111] oneDNN custom operations are on. You may see slightly different numerical results due to floating-point round-off errors from different computation orders. To turn them off, set the environment variable `TF_ENABLE_ONEDNN_OPTS=0`.\n",
      "2024-06-27 11:56:50.466670: E tensorflow/compiler/xla/stream_executor/cuda/cuda_dnn.cc:9342] Unable to register cuDNN factory: Attempting to register factory for plugin cuDNN when one has already been registered\n",
      "2024-06-27 11:56:50.466690: E tensorflow/compiler/xla/stream_executor/cuda/cuda_fft.cc:609] Unable to register cuFFT factory: Attempting to register factory for plugin cuFFT when one has already been registered\n",
      "2024-06-27 11:56:50.466707: E tensorflow/compiler/xla/stream_executor/cuda/cuda_blas.cc:1518] Unable to register cuBLAS factory: Attempting to register factory for plugin cuBLAS when one has already been registered\n",
      "2024-06-27 11:56:50.470956: I tensorflow/core/platform/cpu_feature_guard.cc:182] This TensorFlow binary is optimized to use available CPU instructions in performance-critical operations.\n",
      "To enable the following instructions: AVX2 AVX512F AVX512_VNNI FMA, in other operations, rebuild TensorFlow with the appropriate compiler flags.\n",
      "2024-06-27 11:56:50.939954: W tensorflow/compiler/tf2tensorrt/utils/py_utils.cc:38] TF-TRT Warning: Could not find TensorRT\n"
     ]
    }
   ],
   "source": [
    "from imports import *"
   ]
  },
  {
   "cell_type": "code",
   "execution_count": 2,
   "id": "429b960b-3a77-47d9-94db-c807425da6e5",
   "metadata": {},
   "outputs": [],
   "source": [
    "sys.path.append('src')\n",
    "from process_data import DataProcessor\n",
    "from autoformer import Autoformer\n",
    "from visualize_data import Visualizer\n",
    "from train_model import ModelTrainer\n",
    "from load_data import DataLoader\n",
    "model_trainer = ModelTrainer()\n",
    "data_processor = DataProcessor()\n",
    "visualizer = Visualizer()\n",
    "data_loader = DataLoader()"
   ]
  },
  {
   "cell_type": "code",
   "execution_count": 3,
   "id": "13beb8fe-e479-4e5b-a2a9-da44956536f5",
   "metadata": {},
   "outputs": [],
   "source": [
    "data, pip_factor = data_loader.load_usdcad_1min()"
   ]
  },
  {
   "cell_type": "code",
   "execution_count": 4,
   "id": "70caaf21-dc8d-485c-8e16-69670e8de6fc",
   "metadata": {},
   "outputs": [],
   "source": [
    "input_seq_len = 96\n",
    "output_seq_len = 30\n",
    "\n",
    "train_pct = 0.6\n",
    "val_pct = 0.2"
   ]
  },
  {
   "cell_type": "code",
   "execution_count": 5,
   "id": "63420d5c-dc09-40db-89bd-40de0c74118c",
   "metadata": {},
   "outputs": [],
   "source": [
    "b, a = butter(5, 1/12, btype='low', analog=False)\n",
    "data['bw_close'] = filtfilt(b, a, data['close'])"
   ]
  },
  {
   "cell_type": "code",
   "execution_count": 6,
   "id": "3071fa23-e249-4d71-ab8e-5b5fc3f86a38",
   "metadata": {},
   "outputs": [],
   "source": [
    "data['rsi_close_15'] = abstract.RSI(data, timeperiod=15, price='close')\n",
    "data['rsi_close_60'] = abstract.RSI(data, timeperiod=60, price='close')\n",
    "data['atr_14'] = abstract.ATR(data, timeperiod=14)\n",
    "slowk, slowd = talib.STOCH(data['high'], data['low'], data['close'])\n",
    "data['slowk'] = slowk\n",
    "data['slowd'] = slowd\n"
   ]
  },
  {
   "cell_type": "code",
   "execution_count": 7,
   "id": "8f55d685-9417-4922-be2f-a0e520720072",
   "metadata": {},
   "outputs": [],
   "source": [
    "data.dropna(how='any', axis=0, inplace=True)"
   ]
  },
  {
   "cell_type": "code",
   "execution_count": 8,
   "id": "f0f655d3-f936-4768-b73a-c16505a1db8e",
   "metadata": {},
   "outputs": [],
   "source": [
    "data, _ = data_processor.normalize_custom(data, train_pct, ['volume', 'rsi_close_15', 'rsi_close_60', 'atr_14', 'slowk', 'slowd'])"
   ]
  },
  {
   "cell_type": "code",
   "execution_count": 9,
   "id": "8deea380-d2e3-4928-a1c1-73b85c2f0007",
   "metadata": {},
   "outputs": [],
   "source": [
    "target_time = data[['time', 'bw_close', 'close']]"
   ]
  },
  {
   "cell_type": "code",
   "execution_count": 10,
   "id": "f999b31a-2c06-4f80-8f30-92da8bed7afa",
   "metadata": {},
   "outputs": [],
   "source": [
    "target = data[['close', 'bw_close']]"
   ]
  },
  {
   "cell_type": "code",
   "execution_count": 11,
   "id": "5319ed5b-825e-4c57-88f2-ca41e8633a06",
   "metadata": {},
   "outputs": [],
   "source": [
    "data.drop(['open', 'high', 'low', 'close'], axis=1, inplace=True)"
   ]
  },
  {
   "cell_type": "code",
   "execution_count": 12,
   "id": "3e027f59-a9cf-46c1-af93-aca368eada02",
   "metadata": {},
   "outputs": [],
   "source": [
    "Xdata, ydata = model_trainer.create_Xy_data(data, target, input_seq_len, output_seq_len)"
   ]
  },
  {
   "cell_type": "code",
   "execution_count": 13,
   "id": "f7fe3d6b-8dcd-458e-9705-3ba9a6f2e6de",
   "metadata": {},
   "outputs": [],
   "source": [
    "np.random.seed(42)\n",
    "shuffled_indices = np.random.permutation(Xdata.shape[0])\n",
    "Xdata = Xdata[shuffled_indices]\n",
    "ydata = ydata[shuffled_indices]"
   ]
  },
  {
   "cell_type": "code",
   "execution_count": 14,
   "id": "701fc788-8c79-4a0c-b112-cc27ba870a41",
   "metadata": {},
   "outputs": [],
   "source": [
    "Xtrain_time, ytrain_c, Xval_time, yval_c, Xtest_time, ytest_c = model_trainer.split_data(Xdata, ydata, train_pct, val_pct)"
   ]
  },
  {
   "cell_type": "code",
   "execution_count": 15,
   "id": "3ff0db4d-3ac3-4089-8bdb-69bb69dd8efd",
   "metadata": {},
   "outputs": [],
   "source": [
    "# discard time column\n",
    "Xtrain = (Xtrain_time[:, :, 1:]).astype(np.float64)\n",
    "Xval = (Xval_time[:, :, 1:]).astype(np.float64)\n",
    "Xtest = (Xtest_time[:, :, 1:]).astype(np.float64)\n",
    "\n",
    "# discard original close price column, keep only filtered close price column\n",
    "ytrain = ytrain_c[:, :, 1:]\n",
    "yval = yval_c[:, :, 1:]\n",
    "ytest = ytest_c[:, :, 1:]"
   ]
  },
  {
   "cell_type": "code",
   "execution_count": 16,
   "id": "7f237e24-0595-48fa-adf1-521cf12a83bf",
   "metadata": {},
   "outputs": [],
   "source": [
    "config = {\n",
    "    'input_seq_len': input_seq_len,\n",
    "    'O': output_seq_len,\n",
    "    'pool_size': 64,\n",
    "    'ac_heads': 4,\n",
    "    'c': 4,\n",
    "    'encoder_layers': 1,\n",
    "    'd_model': 32,\n",
    "    'd_ff': 32,\n",
    "    'dropout_rate': 0.1,\n",
    "    'decoder_layers': 1,\n",
    "    'd_out': ytrain.shape[-1],\n",
    "    'd_data': Xtrain.shape[-1],\n",
    "    'batch_size': 32\n",
    "}"
   ]
  },
  {
   "cell_type": "code",
   "execution_count": 17,
   "id": "3428996d-c4e3-4f8d-aa86-1a4cdde90ed9",
   "metadata": {},
   "outputs": [
    {
     "name": "stderr",
     "output_type": "stream",
     "text": [
      "2024-06-27 11:57:05.916731: I tensorflow/core/common_runtime/gpu/gpu_device.cc:1886] Created device /job:localhost/replica:0/task:0/device:GPU:0 with 9275 MB memory:  -> device: 0, name: NVIDIA GeForce RTX 3060, pci bus id: 0000:01:00.0, compute capability: 8.6\n",
      "2024-06-27 11:57:06.020266: I tensorflow/compiler/xla/stream_executor/cuda/cuda_dnn.cc:442] Loaded cuDNN version 8904\n"
     ]
    }
   ],
   "source": [
    "epochs = 10\n",
    "\n",
    "path = 'saved_models/af-absolute-96in-30out.h5'\n",
    "\n",
    "model = model_trainer.load_model_autoformer(path, Xtest, config)\n",
    "\n",
    "#model = Autoformer(config)"
   ]
  },
  {
   "cell_type": "code",
   "execution_count": 18,
   "id": "c3dc6d5f-6add-4462-a04f-3178cbd0ee52",
   "metadata": {},
   "outputs": [],
   "source": [
    "#model, best_epoch, train_losses, val_losses = model_trainer.train_model_autoformer(Xtrain, ytrain, Xval, yval, path, epochs, model, 1e-3, config, Xtest)"
   ]
  },
  {
   "cell_type": "code",
   "execution_count": 19,
   "id": "11906b70-9087-4d97-b869-3a56c8b35973",
   "metadata": {},
   "outputs": [],
   "source": [
    "pred = model(Xtest, training=False)"
   ]
  },
  {
   "cell_type": "code",
   "execution_count": null,
   "id": "7d7ed630-e7d9-44eb-8770-b45455f4874c",
   "metadata": {},
   "outputs": [],
   "source": []
  },
  {
   "cell_type": "code",
   "execution_count": null,
   "id": "39f5ac1b-7a0b-4d63-b07c-7e6792023f6b",
   "metadata": {},
   "outputs": [],
   "source": []
  },
  {
   "cell_type": "code",
   "execution_count": null,
   "id": "01714323-bca9-45cb-9dac-7e61d25deb1c",
   "metadata": {},
   "outputs": [],
   "source": []
  },
  {
   "cell_type": "code",
   "execution_count": 20,
   "id": "f993cb4c-c41a-487e-8305-36e137ce8f75",
   "metadata": {},
   "outputs": [],
   "source": [
    "close_idx = 1\n",
    "last_closes_input_seqs = list(Xtest[:, -1, close_idx])\n",
    "last_closes_output_seqs = list(ytest[:, -1, 0])\n",
    "last_closes_pred_seqs = list(pred[:, -1, 0])"
   ]
  },
  {
   "cell_type": "code",
   "execution_count": 21,
   "id": "0580e00b-6582-4b91-a5ae-928b3be22e52",
   "metadata": {},
   "outputs": [],
   "source": [
    "real_price_movement = [a-b for a, b in zip(last_closes_output_seqs, last_closes_input_seqs)]\n",
    "pred_price_movement = [a-b for a, b in zip(last_closes_pred_seqs, last_closes_input_seqs)]"
   ]
  },
  {
   "cell_type": "code",
   "execution_count": 22,
   "id": "064a1b89-9565-477f-901c-cffe9c9edbc5",
   "metadata": {},
   "outputs": [],
   "source": [
    "real_classes = data_processor.create_binary_classification_classes(real_price_movement, 0.0)\n",
    "pred_classes = data_processor.create_binary_classification_classes(pred_price_movement, 0.0)"
   ]
  },
  {
   "cell_type": "code",
   "execution_count": 23,
   "id": "f8cc3ba0-67f9-4d90-9319-9b8e6b8e403e",
   "metadata": {},
   "outputs": [
    {
     "data": {
      "image/png": "[encoded data removed]",
      "text/plain": [
       "<Figure size 1200x600 with 2 Axes>"
      ]
     },
     "metadata": {},
     "output_type": "display_data"
    }
   ],
   "source": [
    "visualizer.pie_number_of_price_movements_binary(real_classes, pred_classes)"
   ]
  },
  {
   "cell_type": "code",
   "execution_count": 24,
   "id": "4e7f6d24-4a2b-4259-b8e4-d918b7e05419",
   "metadata": {},
   "outputs": [
    {
     "data": {
      "text/html": [
       "<div>\n",
       "<style scoped>\n",
       "    .dataframe tbody tr th:only-of-type {\n",
       "        vertical-align: middle;\n",
       "    }\n",
       "\n",
       "    .dataframe tbody tr th {\n",
       "        vertical-align: top;\n",
       "    }\n",
       "\n",
       "    .dataframe thead th {\n",
       "        text-align: right;\n",
       "    }\n",
       "</style>\n",
       "<table border=\"1\" class=\"dataframe\">\n",
       "  <thead>\n",
       "    <tr style=\"text-align: right;\">\n",
       "      <th></th>\n",
       "      <th>Metric</th>\n",
       "      <th>Value</th>\n",
       "    </tr>\n",
       "  </thead>\n",
       "  <tbody>\n",
       "    <tr>\n",
       "      <th>0</th>\n",
       "      <td>Accuracy</td>\n",
       "      <td>0.501973</td>\n",
       "    </tr>\n",
       "    <tr>\n",
       "      <th>1</th>\n",
       "      <td>Precision</td>\n",
       "      <td>0.501882</td>\n",
       "    </tr>\n",
       "    <tr>\n",
       "      <th>2</th>\n",
       "      <td>Recall</td>\n",
       "      <td>0.998627</td>\n",
       "    </tr>\n",
       "    <tr>\n",
       "      <th>3</th>\n",
       "      <td>F1 Score</td>\n",
       "      <td>0.668031</td>\n",
       "    </tr>\n",
       "  </tbody>\n",
       "</table>\n",
       "</div>"
      ],
      "text/plain": [
       "      Metric     Value\n",
       "0   Accuracy  0.501973\n",
       "1  Precision  0.501882\n",
       "2     Recall  0.998627\n",
       "3   F1 Score  0.668031"
      ]
     },
     "execution_count": 24,
     "metadata": {},
     "output_type": "execute_result"
    }
   ],
   "source": [
    "accuracy, precision, recall, f1 = data_processor.create_metrics_from_classes_binary(real_classes, pred_classes)\n",
    "visualizer.create_metrics_df(accuracy, precision, recall, f1)"
   ]
  },
  {
   "cell_type": "code",
   "execution_count": null,
   "id": "9bd93808-0bf2-4161-8f22-20e287159ddd",
   "metadata": {},
   "outputs": [],
   "source": []
  },
  {
   "cell_type": "code",
   "execution_count": null,
   "id": "29de1413-e50d-4232-941d-9ce1b422e17d",
   "metadata": {},
   "outputs": [],
   "source": []
  }
 ],
 "metadata": {
  "kernelspec": {
   "display_name": "Python 3 (ipykernel)",
   "language": "python",
   "name": "python3"
  },
  "language_info": {
   "codemirror_mode": {
    "name": "ipython",
    "version": 3
   },
   "file_extension": ".py",
   "mimetype": "text/x-python",
   "name": "python",
   "nbconvert_exporter": "python",
   "pygments_lexer": "ipython3",
   "version": "3.11.8"
  }
 },
 "nbformat": 4,
 "nbformat_minor": 5
}
