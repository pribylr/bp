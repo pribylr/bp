{
 "cells": [
  {
   "cell_type": "markdown",
   "id": "217bcac3-c49d-48e6-976c-c0a309c6c6f6",
   "metadata": {},
   "source": [
    "### In this file there are three models trained, each with different length of input sequence"
   ]
  },
  {
   "cell_type": "code",
   "execution_count": 1,
   "id": "d4d4936c-ccf0-4157-b78d-65ce15e86de4",
   "metadata": {},
   "outputs": [
    {
     "name": "stderr",
     "output_type": "stream",
     "text": [
      "2024-06-27 15:31:01.932258: I tensorflow/core/util/port.cc:111] oneDNN custom operations are on. You may see slightly different numerical results due to floating-point round-off errors from different computation orders. To turn them off, set the environment variable `TF_ENABLE_ONEDNN_OPTS=0`.\n",
      "2024-06-27 15:31:01.956850: E tensorflow/compiler/xla/stream_executor/cuda/cuda_dnn.cc:9342] Unable to register cuDNN factory: Attempting to register factory for plugin cuDNN when one has already been registered\n",
      "2024-06-27 15:31:01.956870: E tensorflow/compiler/xla/stream_executor/cuda/cuda_fft.cc:609] Unable to register cuFFT factory: Attempting to register factory for plugin cuFFT when one has already been registered\n",
      "2024-06-27 15:31:01.956887: E tensorflow/compiler/xla/stream_executor/cuda/cuda_blas.cc:1518] Unable to register cuBLAS factory: Attempting to register factory for plugin cuBLAS when one has already been registered\n",
      "2024-06-27 15:31:01.961789: I tensorflow/core/platform/cpu_feature_guard.cc:182] This TensorFlow binary is optimized to use available CPU instructions in performance-critical operations.\n",
      "To enable the following instructions: AVX2 AVX512F AVX512_VNNI FMA, in other operations, rebuild TensorFlow with the appropriate compiler flags.\n",
      "2024-06-27 15:31:02.440474: W tensorflow/compiler/tf2tensorrt/utils/py_utils.cc:38] TF-TRT Warning: Could not find TensorRT\n"
     ]
    }
   ],
   "source": [
    "from imports import *"
   ]
  },
  {
   "cell_type": "code",
   "execution_count": 2,
   "id": "5b7dc350-1e88-41c5-bc77-8e79bab70a70",
   "metadata": {},
   "outputs": [],
   "source": [
    "sys.path.append('src')\n",
    "from process_data import DataProcessor\n",
    "from vanilla_transformer import Transformer\n",
    "from visualize_data import Visualizer\n",
    "from train_model import ModelTrainer\n",
    "from load_data import DataLoader\n",
    "model_trainer = ModelTrainer()\n",
    "data_processor = DataProcessor()\n",
    "visualizer = Visualizer()\n",
    "data_loader = DataLoader()"
   ]
  },
  {
   "cell_type": "code",
   "execution_count": 3,
   "id": "a2fc08cc-24ee-47b1-bd13-2cf277036f1f",
   "metadata": {},
   "outputs": [],
   "source": [
    "data, pip_factor = data_loader.load_gpbusd_5min()"
   ]
  },
  {
   "cell_type": "code",
   "execution_count": 4,
   "id": "daf55854-f070-43e9-8017-cca4794b897c",
   "metadata": {},
   "outputs": [],
   "source": [
    "train_pct = 0.6\n",
    "val_pct = 0.2"
   ]
  },
  {
   "cell_type": "code",
   "execution_count": 5,
   "id": "a088469a-ff94-43b4-8517-081a02977c75",
   "metadata": {},
   "outputs": [],
   "source": [
    "b, a = butter(5, 1/6, btype='low', analog=False)\n",
    "data['bw_open'] = filtfilt(b, a, data['open'])\n",
    "data['bw_high'] = filtfilt(b, a, data['high'])\n",
    "data['bw_low'] = filtfilt(b, a, data['low'])\n",
    "data['bw_close'] = filtfilt(b, a, data['close'])"
   ]
  },
  {
   "cell_type": "code",
   "execution_count": 6,
   "id": "b7da9bd7-d761-4c24-8071-20a8e840c669",
   "metadata": {},
   "outputs": [],
   "source": [
    "data['rsi_close_5'] = abstract.RSI(data, timeperiod=7, price='bw_close')\n",
    "data['willr_close_8'] = abstract.WILLR(data, timeperiod=12, price='bw_close')"
   ]
  },
  {
   "cell_type": "code",
   "execution_count": 7,
   "id": "7ac13cbc-a350-421b-936f-7ecc9d113cce",
   "metadata": {},
   "outputs": [],
   "source": [
    "data.dropna(how='any', axis=0, inplace=True)"
   ]
  },
  {
   "cell_type": "code",
   "execution_count": 8,
   "id": "72e7a981-3f41-432e-8075-6c444f2dd720",
   "metadata": {},
   "outputs": [],
   "source": [
    "data, _ = data_processor.normalize_custom(data, train_pct, ['volume', 'rsi_close_5', 'willr_close_8'])"
   ]
  },
  {
   "cell_type": "code",
   "execution_count": 9,
   "id": "1aac4e97-40c2-451f-8624-e1035db28e2d",
   "metadata": {},
   "outputs": [],
   "source": [
    "target_time = data[['time', 'bw_close', 'close']]"
   ]
  },
  {
   "cell_type": "code",
   "execution_count": 10,
   "id": "0f503772-b69c-4f43-8d30-95ae4b6da3ff",
   "metadata": {},
   "outputs": [],
   "source": [
    "data = data_processor.diff_features(data, ['close', 'bw_open', 'bw_high', 'bw_low', 'bw_close'])"
   ]
  },
  {
   "cell_type": "code",
   "execution_count": 11,
   "id": "8d70a1bd-f1e5-4d5c-9e4f-2a90d911e29f",
   "metadata": {},
   "outputs": [],
   "source": [
    "data.loc[:, 'close'] *= pip_factor\n",
    "data.loc[:, 'bw_close'] *= pip_factor\n",
    "data.loc[:, 'bw_open'] *= pip_factor\n",
    "data.loc[:, 'bw_high'] *= pip_factor\n",
    "data.loc[:, 'bw_low'] *= pip_factor"
   ]
  },
  {
   "cell_type": "code",
   "execution_count": 12,
   "id": "33a38e07-193f-4741-bb32-1e2b573d09dd",
   "metadata": {},
   "outputs": [],
   "source": [
    "target = data[['close', 'bw_close']]"
   ]
  },
  {
   "cell_type": "code",
   "execution_count": 13,
   "id": "9af5ad0f-61b5-40f3-b576-97d7f3281e40",
   "metadata": {},
   "outputs": [
    {
     "name": "stderr",
     "output_type": "stream",
     "text": [
      "/tmp/ipykernel_52219/4177561520.py:1: SettingWithCopyWarning: \n",
      "A value is trying to be set on a copy of a slice from a DataFrame\n",
      "\n",
      "See the caveats in the documentation: https://pandas.pydata.org/pandas-docs/stable/user_guide/indexing.html#returning-a-view-versus-a-copy\n",
      "  data.drop(['open', 'high', 'low', 'close'], axis=1, inplace=True)\n"
     ]
    }
   ],
   "source": [
    "data.drop(['open', 'high', 'low', 'close'], axis=1, inplace=True)"
   ]
  },
  {
   "cell_type": "code",
   "execution_count": null,
   "id": "33253280-40a8-4c84-81ec-2d5bffad1890",
   "metadata": {},
   "outputs": [],
   "source": []
  },
  {
   "cell_type": "code",
   "execution_count": 14,
   "id": "5d9b819f-5989-4048-94a8-f286f80dde44",
   "metadata": {},
   "outputs": [],
   "source": [
    "input_seq_len_0 = 32\n",
    "input_seq_len_1 = 16\n",
    "input_seq_len_2 = 8\n",
    "\n",
    "output_seq_len = 8"
   ]
  },
  {
   "cell_type": "code",
   "execution_count": null,
   "id": "3658589d-d9cc-485a-b755-87efe8881467",
   "metadata": {},
   "outputs": [],
   "source": []
  },
  {
   "cell_type": "code",
   "execution_count": null,
   "id": "8ea2bc8d-e340-44f4-97b2-a7e64fae1104",
   "metadata": {},
   "outputs": [],
   "source": []
  },
  {
   "cell_type": "markdown",
   "id": "ccc60782-c925-4896-8e37-613e096c5f27",
   "metadata": {},
   "source": [
    "# 32 steps input - 160 minutes"
   ]
  },
  {
   "cell_type": "code",
   "execution_count": 42,
   "id": "63093677-2cdb-4a4c-84bc-f9981af85534",
   "metadata": {},
   "outputs": [],
   "source": [
    "config = {\n",
    "    'input_seq_len': input_seq_len_0,\n",
    "    'output_seq_len': output_seq_len,\n",
    "    'multihead_attn_heads': 4,\n",
    "    'd_k': 32,\n",
    "    'd_v': 32,\n",
    "    'd_ff': 32,\n",
    "    'd_out': 1,\n",
    "    'd_model': 32,\n",
    "    'encoder_layers': 1,\n",
    "    'decoder_layers': 1,\n",
    "    'dropout_rate': 0.1,\n",
    "    'activation': 'relu',\n",
    "    'batch_size': 32,\n",
    "}"
   ]
  },
  {
   "cell_type": "code",
   "execution_count": 43,
   "id": "dab57533-47d4-4b19-a49a-f92db89b6b35",
   "metadata": {},
   "outputs": [],
   "source": [
    "Xdata, ydata = model_trainer.create_Xy_data(data, target, input_seq_len_0, output_seq_len)"
   ]
  },
  {
   "cell_type": "code",
   "execution_count": 44,
   "id": "079e39f1-95ce-4753-895a-3788d7a61baf",
   "metadata": {},
   "outputs": [],
   "source": [
    "np.random.seed(42)\n",
    "shuffled_indices = np.random.permutation(Xdata.shape[0])\n",
    "Xdata = Xdata[shuffled_indices]\n",
    "ydata = ydata[shuffled_indices]"
   ]
  },
  {
   "cell_type": "code",
   "execution_count": 45,
   "id": "531538bc-8492-4ce9-ba37-b9579670053a",
   "metadata": {},
   "outputs": [],
   "source": [
    "Xtrain_time, ytrain_c, Xval_time, yval_c, Xtest_time, ytest_c = model_trainer.split_data(Xdata, ydata, train_pct, val_pct)"
   ]
  },
  {
   "cell_type": "code",
   "execution_count": 46,
   "id": "5cb8d7d0-938e-41e2-aa85-0a5be1897853",
   "metadata": {},
   "outputs": [],
   "source": [
    "Xtrain = (Xtrain_time[:, :, 1:]).astype(np.float64)\n",
    "Xval = (Xval_time[:, :, 1:]).astype(np.float64)\n",
    "Xtest = (Xtest_time[:, :, 1:]).astype(np.float64)\n",
    "\n",
    "ytrain = ytrain_c[:, :, 1:]\n",
    "yval = yval_c[:, :, 1:]\n",
    "ytest = ytest_c[:, :, 1:]"
   ]
  },
  {
   "cell_type": "code",
   "execution_count": 47,
   "id": "17eb0da3-e4bb-409a-8e0d-b65aa829b1f5",
   "metadata": {},
   "outputs": [],
   "source": [
    "epochs = 15\n",
    "\n",
    "path = 'saved_models/tf-5m-32in-8out.h5'\n",
    "\n",
    "model = model_trainer.load_model_transformer(path, Xtest, config)\n",
    "\n",
    "#model = Transformer(config)"
   ]
  },
  {
   "cell_type": "code",
   "execution_count": 48,
   "id": "d077fa05-e99a-4410-94ad-47e4bc7ce6d5",
   "metadata": {},
   "outputs": [],
   "source": [
    "#model, best_epoch, train_losses, val_losses = model_trainer.train_model_transformer(Xtrain, ytrain, Xval, yval, path, epochs, model_0, 1e-3, config, Xtest)"
   ]
  },
  {
   "cell_type": "code",
   "execution_count": 49,
   "id": "5901249d-adf0-45e3-98d4-1fa7d044431b",
   "metadata": {},
   "outputs": [],
   "source": [
    "with tf.device('/CPU:0'):\n",
    "    pred = model(Xtest, target=None, training=False)"
   ]
  },
  {
   "cell_type": "code",
   "execution_count": 50,
   "id": "57c9cea5-88ee-4d05-939b-73eae71cc860",
   "metadata": {},
   "outputs": [],
   "source": [
    "real_price_movement = list(data_processor.sum_along_seq_dim(ytest_c[:,:,0]))\n",
    "pred_price_movement = list(data_processor.sum_along_seq_dim(pred[:,:,0]))"
   ]
  },
  {
   "cell_type": "code",
   "execution_count": 51,
   "id": "f38644e8-51ee-4eba-a603-9ba319aedd1f",
   "metadata": {},
   "outputs": [],
   "source": [
    "real_classes = data_processor.create_binary_classification_classes(real_price_movement, 0.0)\n",
    "pred_classes = data_processor.create_binary_classification_classes(pred_price_movement, 0.0)"
   ]
  },
  {
   "cell_type": "code",
   "execution_count": 52,
   "id": "6f8bd8ad-e79e-4dcd-9572-a137e8ebc033",
   "metadata": {},
   "outputs": [
    {
     "data": {
      "text/html": [
       "<div>\n",
       "<style scoped>\n",
       "    .dataframe tbody tr th:only-of-type {\n",
       "        vertical-align: middle;\n",
       "    }\n",
       "\n",
       "    .dataframe tbody tr th {\n",
       "        vertical-align: top;\n",
       "    }\n",
       "\n",
       "    .dataframe thead th {\n",
       "        text-align: right;\n",
       "    }\n",
       "</style>\n",
       "<table border=\"1\" class=\"dataframe\">\n",
       "  <thead>\n",
       "    <tr style=\"text-align: right;\">\n",
       "      <th></th>\n",
       "      <th>Metric</th>\n",
       "      <th>Value</th>\n",
       "    </tr>\n",
       "  </thead>\n",
       "  <tbody>\n",
       "    <tr>\n",
       "      <th>0</th>\n",
       "      <td>Accuracy</td>\n",
       "      <td>0.782986</td>\n",
       "    </tr>\n",
       "    <tr>\n",
       "      <th>1</th>\n",
       "      <td>Precision</td>\n",
       "      <td>0.790971</td>\n",
       "    </tr>\n",
       "    <tr>\n",
       "      <th>2</th>\n",
       "      <td>Recall</td>\n",
       "      <td>0.781408</td>\n",
       "    </tr>\n",
       "    <tr>\n",
       "      <th>3</th>\n",
       "      <td>F1 Score</td>\n",
       "      <td>0.786160</td>\n",
       "    </tr>\n",
       "  </tbody>\n",
       "</table>\n",
       "</div>"
      ],
      "text/plain": [
       "      Metric     Value\n",
       "0   Accuracy  0.782986\n",
       "1  Precision  0.790971\n",
       "2     Recall  0.781408\n",
       "3   F1 Score  0.786160"
      ]
     },
     "execution_count": 52,
     "metadata": {},
     "output_type": "execute_result"
    }
   ],
   "source": [
    "accuracy_0, precision_0, recall_0, f1_0 = data_processor.create_metrics_from_classes_binary(real_classes, pred_classes)\n",
    "visualizer.create_metrics_df(accuracy_0, precision_0, recall_0, f1_0)"
   ]
  },
  {
   "cell_type": "code",
   "execution_count": null,
   "id": "b4dac760-55a3-437f-81dc-f31f8cb751d9",
   "metadata": {},
   "outputs": [],
   "source": []
  },
  {
   "cell_type": "code",
   "execution_count": null,
   "id": "934623d9-c0ab-45bd-9dd1-b84860f05f1f",
   "metadata": {},
   "outputs": [],
   "source": []
  },
  {
   "cell_type": "code",
   "execution_count": null,
   "id": "df7ac991-2dfa-4053-a764-e3243c1bd2b4",
   "metadata": {},
   "outputs": [],
   "source": []
  },
  {
   "cell_type": "markdown",
   "id": "e765b1a4-8e0b-4c1a-bf81-fb70f5dc197f",
   "metadata": {},
   "source": [
    "# 16 steps input - 80 minutes"
   ]
  },
  {
   "cell_type": "code",
   "execution_count": 15,
   "id": "fee02f7d-e8d1-4761-9584-a0f150b4fb59",
   "metadata": {},
   "outputs": [],
   "source": [
    "config = {\n",
    "    'input_seq_len': input_seq_len_1,\n",
    "    'output_seq_len': output_seq_len,\n",
    "    'multihead_attn_heads': 4,\n",
    "    'd_k': 32,\n",
    "    'd_v': 32,\n",
    "    'd_ff': 32,\n",
    "    'd_out': 1,\n",
    "    'd_model': 32,\n",
    "    'encoder_layers': 1,\n",
    "    'decoder_layers': 1,\n",
    "    'dropout_rate': 0.1,\n",
    "    'activation': 'relu',\n",
    "    'batch_size': 32,\n",
    "}"
   ]
  },
  {
   "cell_type": "code",
   "execution_count": 16,
   "id": "281cc996-e4e4-42a9-bd78-6d0a50ebe818",
   "metadata": {},
   "outputs": [],
   "source": [
    "Xdata, ydata = model_trainer.create_Xy_data(data, target, input_seq_len_1, output_seq_len)"
   ]
  },
  {
   "cell_type": "code",
   "execution_count": 17,
   "id": "b1787c73-32a7-4157-a6c7-2e7ea124b230",
   "metadata": {},
   "outputs": [],
   "source": [
    "np.random.seed(42)\n",
    "shuffled_indices = np.random.permutation(Xdata.shape[0])\n",
    "Xdata = Xdata[shuffled_indices]\n",
    "ydata = ydata[shuffled_indices]"
   ]
  },
  {
   "cell_type": "code",
   "execution_count": 18,
   "id": "5d6cd237-fbea-4ec3-b814-50614b24f7c9",
   "metadata": {},
   "outputs": [],
   "source": [
    "Xtrain_time, ytrain_c, Xval_time, yval_c, Xtest_time, ytest_c = model_trainer.split_data(Xdata, ydata, train_pct, val_pct)"
   ]
  },
  {
   "cell_type": "code",
   "execution_count": 19,
   "id": "abba93f6-3e71-4ab7-98f0-b9400fb03910",
   "metadata": {},
   "outputs": [],
   "source": [
    "Xtrain = (Xtrain_time[:, :, 1:]).astype(np.float64)\n",
    "Xval = (Xval_time[:, :, 1:]).astype(np.float64)\n",
    "Xtest = (Xtest_time[:, :, 1:]).astype(np.float64)\n",
    "\n",
    "ytrain = ytrain_c[:, :, 1:]\n",
    "yval = yval_c[:, :, 1:]\n",
    "ytest = ytest_c[:, :, 1:]"
   ]
  },
  {
   "cell_type": "code",
   "execution_count": 21,
   "id": "411a9311-f188-4afe-a686-204ea63bb5d5",
   "metadata": {},
   "outputs": [],
   "source": [
    "epochs = 15\n",
    "\n",
    "path = 'saved_models/tf-5m-16in-8out.h5'\n",
    "\n",
    "model = model_trainer.load_model_transformer(path, Xtest, config)\n",
    "\n",
    "#model = Transformer(config)"
   ]
  },
  {
   "cell_type": "code",
   "execution_count": 22,
   "id": "deee14e6-18dc-49c5-b007-87c94c6d7dda",
   "metadata": {},
   "outputs": [],
   "source": [
    "#model, best_epoch, train_losses, val_losses = model_trainer.train_model_transformer(Xtrain, ytrain, Xval, yval, path, epochs, model, 1e-3, config, Xtest)"
   ]
  },
  {
   "cell_type": "code",
   "execution_count": 23,
   "id": "4650bf51-eccb-4ad1-a8a5-80be96a86d06",
   "metadata": {},
   "outputs": [],
   "source": [
    "with tf.device('/CPU:0'):\n",
    "    pred = model(Xtest, target=None, training=False)"
   ]
  },
  {
   "cell_type": "code",
   "execution_count": 24,
   "id": "203eb70a-11a7-45ff-8652-4dc879169325",
   "metadata": {},
   "outputs": [],
   "source": [
    "real_price_movement = list(data_processor.sum_along_seq_dim(ytest_c[:,:,0]))\n",
    "pred_price_movement = list(data_processor.sum_along_seq_dim(pred[:,:,0]))"
   ]
  },
  {
   "cell_type": "code",
   "execution_count": 25,
   "id": "ca91692b-dac9-492b-9dab-27c82b90316a",
   "metadata": {},
   "outputs": [],
   "source": [
    "real_classes = data_processor.create_binary_classification_classes(real_price_movement, 0.0)\n",
    "pred_classes = data_processor.create_binary_classification_classes(pred_price_movement, 0.0)"
   ]
  },
  {
   "cell_type": "code",
   "execution_count": 26,
   "id": "1529fbe4-8f42-4f62-bbb6-f89abd54cdbc",
   "metadata": {},
   "outputs": [
    {
     "data": {
      "text/html": [
       "<div>\n",
       "<style scoped>\n",
       "    .dataframe tbody tr th:only-of-type {\n",
       "        vertical-align: middle;\n",
       "    }\n",
       "\n",
       "    .dataframe tbody tr th {\n",
       "        vertical-align: top;\n",
       "    }\n",
       "\n",
       "    .dataframe thead th {\n",
       "        text-align: right;\n",
       "    }\n",
       "</style>\n",
       "<table border=\"1\" class=\"dataframe\">\n",
       "  <thead>\n",
       "    <tr style=\"text-align: right;\">\n",
       "      <th></th>\n",
       "      <th>Metric</th>\n",
       "      <th>Value</th>\n",
       "    </tr>\n",
       "  </thead>\n",
       "  <tbody>\n",
       "    <tr>\n",
       "      <th>0</th>\n",
       "      <td>Accuracy</td>\n",
       "      <td>0.759943</td>\n",
       "    </tr>\n",
       "    <tr>\n",
       "      <th>1</th>\n",
       "      <td>Precision</td>\n",
       "      <td>0.777546</td>\n",
       "    </tr>\n",
       "    <tr>\n",
       "      <th>2</th>\n",
       "      <td>Recall</td>\n",
       "      <td>0.736703</td>\n",
       "    </tr>\n",
       "    <tr>\n",
       "      <th>3</th>\n",
       "      <td>F1 Score</td>\n",
       "      <td>0.756574</td>\n",
       "    </tr>\n",
       "  </tbody>\n",
       "</table>\n",
       "</div>"
      ],
      "text/plain": [
       "      Metric     Value\n",
       "0   Accuracy  0.759943\n",
       "1  Precision  0.777546\n",
       "2     Recall  0.736703\n",
       "3   F1 Score  0.756574"
      ]
     },
     "execution_count": 26,
     "metadata": {},
     "output_type": "execute_result"
    }
   ],
   "source": [
    "accuracy_0, precision_0, recall_0, f1_0 = data_processor.create_metrics_from_classes_binary(real_classes, pred_classes)\n",
    "visualizer.create_metrics_df(accuracy_0, precision_0, recall_0, f1_0)"
   ]
  },
  {
   "cell_type": "code",
   "execution_count": null,
   "id": "18c865b3-b2c2-41c8-b0b8-d9c476a0eded",
   "metadata": {},
   "outputs": [],
   "source": []
  },
  {
   "cell_type": "code",
   "execution_count": null,
   "id": "71aee807-829b-44c2-a682-d707ba96b688",
   "metadata": {},
   "outputs": [],
   "source": []
  },
  {
   "cell_type": "code",
   "execution_count": null,
   "id": "847abc5b-069c-45a2-9318-2583c0774891",
   "metadata": {},
   "outputs": [],
   "source": []
  },
  {
   "cell_type": "markdown",
   "id": "6e6eae5a-28d9-4445-b448-21d9b496032a",
   "metadata": {},
   "source": [
    "# 8 steps input - 40 minutes"
   ]
  },
  {
   "cell_type": "code",
   "execution_count": 32,
   "id": "6ff108cb-a910-483f-b76d-5d221185e9ef",
   "metadata": {},
   "outputs": [],
   "source": [
    "config = {\n",
    "    'input_seq_len': input_seq_len_2,\n",
    "    'output_seq_len': output_seq_len,\n",
    "    'multihead_attn_heads': 4,\n",
    "    'd_k': 32,\n",
    "    'd_v': 32,\n",
    "    'd_ff': 32,\n",
    "    'd_out': 1,\n",
    "    'd_model': 32,\n",
    "    'encoder_layers': 1,\n",
    "    'decoder_layers': 1,\n",
    "    'dropout_rate': 0.1,\n",
    "    'activation': 'relu',\n",
    "    'batch_size': 32,\n",
    "}"
   ]
  },
  {
   "cell_type": "code",
   "execution_count": 33,
   "id": "ede7f5c1-8704-411a-9c57-75e052d815b8",
   "metadata": {},
   "outputs": [],
   "source": [
    "Xdata, ydata = model_trainer.create_Xy_data(data, target, input_seq_len_2, output_seq_len)"
   ]
  },
  {
   "cell_type": "code",
   "execution_count": 34,
   "id": "b61fd6f5-f739-45f1-801d-ca97beb30613",
   "metadata": {},
   "outputs": [],
   "source": [
    "np.random.seed(42)\n",
    "shuffled_indices = np.random.permutation(Xdata.shape[0])\n",
    "Xdata = Xdata[shuffled_indices]\n",
    "ydata = ydata[shuffled_indices]"
   ]
  },
  {
   "cell_type": "code",
   "execution_count": 35,
   "id": "ffe01e9e-ca3c-48b4-a194-0ff7fc9e390f",
   "metadata": {},
   "outputs": [],
   "source": [
    "Xtrain_time, ytrain_c, Xval_time, yval_c, Xtest_time, ytest_c = model_trainer.split_data(Xdata, ydata, train_pct, val_pct)"
   ]
  },
  {
   "cell_type": "code",
   "execution_count": 36,
   "id": "4430f056-7380-4e94-bd14-530d00b697ca",
   "metadata": {},
   "outputs": [],
   "source": [
    "Xtrain = (Xtrain_time[:, :, 1:]).astype(np.float64)\n",
    "Xval = (Xval_time[:, :, 1:]).astype(np.float64)\n",
    "Xtest = (Xtest_time[:, :, 1:]).astype(np.float64)\n",
    "\n",
    "ytrain = ytrain_c[:, :, 1:]\n",
    "yval = yval_c[:, :, 1:]\n",
    "ytest = ytest_c[:, :, 1:]"
   ]
  },
  {
   "cell_type": "code",
   "execution_count": 37,
   "id": "85b0998c-8098-4537-97f1-3c3df53b6dbd",
   "metadata": {},
   "outputs": [],
   "source": [
    "epochs = 15\n",
    "\n",
    "path = 'saved_models/tf-5m-8in-8out.h5'\n",
    "\n",
    "model = model_trainer.load_model_transformer(path, Xtest, config)\n",
    "\n",
    "#model = Transformer(config)"
   ]
  },
  {
   "cell_type": "code",
   "execution_count": 38,
   "id": "b9f97e2d-5da9-434b-940a-071ef7d1496d",
   "metadata": {},
   "outputs": [],
   "source": [
    "#model, best_epoch, train_losses, val_losses = model_trainer.train_model_transformer(Xtrain, ytrain, Xval, yval, path, epochs, model, 1e-3, config, Xtest_2)"
   ]
  },
  {
   "cell_type": "code",
   "execution_count": 39,
   "id": "55dca740-0d67-4827-9ec8-aeba6e1634ca",
   "metadata": {},
   "outputs": [],
   "source": [
    "with tf.device('/CPU:0'):\n",
    "    pred = model(Xtest, target=None, training=False)"
   ]
  },
  {
   "cell_type": "code",
   "execution_count": 40,
   "id": "ccd49127-6655-4ca4-922f-e3785b5d73de",
   "metadata": {},
   "outputs": [],
   "source": [
    "real_price_movement = list(data_processor.sum_along_seq_dim(ytest_c[:,:,0]))\n",
    "pred_price_movement = list(data_processor.sum_along_seq_dim(pred[:,:,0]))"
   ]
  },
  {
   "cell_type": "code",
   "execution_count": 41,
   "id": "5a917c0e-84de-4444-945c-e7c4276fb14d",
   "metadata": {},
   "outputs": [],
   "source": [
    "real_classes = data_processor.create_binary_classification_classes(real_price_movement, 0.0)\n",
    "pred_classes = data_processor.create_binary_classification_classes(pred_price_movement, 0.0)"
   ]
  },
  {
   "cell_type": "code",
   "execution_count": 42,
   "id": "ca0f204a-8424-4705-a2ae-37abdfed0937",
   "metadata": {},
   "outputs": [
    {
     "data": {
      "text/html": [
       "<div>\n",
       "<style scoped>\n",
       "    .dataframe tbody tr th:only-of-type {\n",
       "        vertical-align: middle;\n",
       "    }\n",
       "\n",
       "    .dataframe tbody tr th {\n",
       "        vertical-align: top;\n",
       "    }\n",
       "\n",
       "    .dataframe thead th {\n",
       "        text-align: right;\n",
       "    }\n",
       "</style>\n",
       "<table border=\"1\" class=\"dataframe\">\n",
       "  <thead>\n",
       "    <tr style=\"text-align: right;\">\n",
       "      <th></th>\n",
       "      <th>Metric</th>\n",
       "      <th>Value</th>\n",
       "    </tr>\n",
       "  </thead>\n",
       "  <tbody>\n",
       "    <tr>\n",
       "      <th>0</th>\n",
       "      <td>Accuracy</td>\n",
       "      <td>0.764068</td>\n",
       "    </tr>\n",
       "    <tr>\n",
       "      <th>1</th>\n",
       "      <td>Precision</td>\n",
       "      <td>0.735524</td>\n",
       "    </tr>\n",
       "    <tr>\n",
       "      <th>2</th>\n",
       "      <td>Recall</td>\n",
       "      <td>0.835141</td>\n",
       "    </tr>\n",
       "    <tr>\n",
       "      <th>3</th>\n",
       "      <td>F1 Score</td>\n",
       "      <td>0.782174</td>\n",
       "    </tr>\n",
       "  </tbody>\n",
       "</table>\n",
       "</div>"
      ],
      "text/plain": [
       "      Metric     Value\n",
       "0   Accuracy  0.764068\n",
       "1  Precision  0.735524\n",
       "2     Recall  0.835141\n",
       "3   F1 Score  0.782174"
      ]
     },
     "execution_count": 42,
     "metadata": {},
     "output_type": "execute_result"
    }
   ],
   "source": [
    "accuracy_0, precision_0, recall_0, f1_0 = data_processor.create_metrics_from_classes_binary(real_classes, pred_classes)\n",
    "visualizer.create_metrics_df(accuracy_0, precision_0, recall_0, f1_0)"
   ]
  },
  {
   "cell_type": "code",
   "execution_count": null,
   "id": "e9a58f97-29dc-4993-944e-e214db7d0140",
   "metadata": {},
   "outputs": [],
   "source": []
  }
 ],
 "metadata": {
  "kernelspec": {
   "display_name": "Python 3 (ipykernel)",
   "language": "python",
   "name": "python3"
  },
  "language_info": {
   "codemirror_mode": {
    "name": "ipython",
    "version": 3
   },
   "file_extension": ".py",
   "mimetype": "text/x-python",
   "name": "python",
   "nbconvert_exporter": "python",
   "pygments_lexer": "ipython3",
   "version": "3.11.8"
  }
 },
 "nbformat": 4,
 "nbformat_minor": 5
}
