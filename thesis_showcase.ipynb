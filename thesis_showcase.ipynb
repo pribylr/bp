{
 "cells": [
  {
   "cell_type": "markdown",
   "id": "887e6df2-6846-4046-8a7f-2aeabd75eb8d",
   "metadata": {},
   "source": [
    "## This file contains one commented process of loading, preparing and splitting one dataset and creating, training and evaluating one model.\n",
    "\n",
    "### More training with different hyperparameters in other files."
   ]
  },
  {
   "cell_type": "code",
   "execution_count": 1,
   "id": "ce3ed826-73ad-4c67-b0cf-c99dcdb54a8a",
   "metadata": {},
   "outputs": [
    {
     "name": "stderr",
     "output_type": "stream",
     "text": [
      "2024-06-23 16:37:03.808440: I tensorflow/core/util/port.cc:111] oneDNN custom operations are on. You may see slightly different numerical results due to floating-point round-off errors from different computation orders. To turn them off, set the environment variable `TF_ENABLE_ONEDNN_OPTS=0`.\n",
      "2024-06-23 16:37:03.831154: E tensorflow/compiler/xla/stream_executor/cuda/cuda_dnn.cc:9342] Unable to register cuDNN factory: Attempting to register factory for plugin cuDNN when one has already been registered\n",
      "2024-06-23 16:37:03.831173: E tensorflow/compiler/xla/stream_executor/cuda/cuda_fft.cc:609] Unable to register cuFFT factory: Attempting to register factory for plugin cuFFT when one has already been registered\n",
      "2024-06-23 16:37:03.831190: E tensorflow/compiler/xla/stream_executor/cuda/cuda_blas.cc:1518] Unable to register cuBLAS factory: Attempting to register factory for plugin cuBLAS when one has already been registered\n",
      "2024-06-23 16:37:03.835776: I tensorflow/core/platform/cpu_feature_guard.cc:182] This TensorFlow binary is optimized to use available CPU instructions in performance-critical operations.\n",
      "To enable the following instructions: AVX2 AVX512F AVX512_VNNI FMA, in other operations, rebuild TensorFlow with the appropriate compiler flags.\n",
      "2024-06-23 16:37:04.318409: W tensorflow/compiler/tf2tensorrt/utils/py_utils.cc:38] TF-TRT Warning: Could not find TensorRT\n"
     ]
    }
   ],
   "source": [
    "from imports import *"
   ]
  },
  {
   "cell_type": "code",
   "execution_count": 2,
   "id": "72fef39a-6535-47a5-9a26-7ab9ed6117d1",
   "metadata": {},
   "outputs": [],
   "source": [
    "sys.path.append('src')\n",
    "from process_data import DataProcessor\n",
    "from vanilla_transformer import Transformer\n",
    "from visualize_data import Visualizer\n",
    "from train_model import ModelTrainer\n",
    "from load_data import DataLoader\n",
    "model_trainer = ModelTrainer()\n",
    "data_processor = DataProcessor()\n",
    "visualizer = Visualizer()\n",
    "data_loader = DataLoader()"
   ]
  },
  {
   "cell_type": "markdown",
   "id": "fc5ef458-ec74-4828-9824-2ac3c5d66da2",
   "metadata": {},
   "source": [
    "## 0. Data loading"
   ]
  },
  {
   "cell_type": "markdown",
   "id": "d2ba5b74-eac1-4500-bdc0-8a624069a844",
   "metadata": {},
   "source": [
    "This file works with forex EURUSD currency pair with candles measured every 15 minutes."
   ]
  },
  {
   "cell_type": "code",
   "execution_count": 3,
   "id": "a350a54c-9ddd-49f1-be20-9a4d4481a9b4",
   "metadata": {},
   "outputs": [],
   "source": [
    "data, pip_factor= data_loader.load_eurusd_15min()"
   ]
  },
  {
   "cell_type": "code",
   "execution_count": 4,
   "id": "d5c3a707-c812-4536-8178-609a59f65971",
   "metadata": {},
   "outputs": [
    {
     "data": {
      "text/html": [
       "<div>\n",
       "<style scoped>\n",
       "    .dataframe tbody tr th:only-of-type {\n",
       "        vertical-align: middle;\n",
       "    }\n",
       "\n",
       "    .dataframe tbody tr th {\n",
       "        vertical-align: top;\n",
       "    }\n",
       "\n",
       "    .dataframe thead th {\n",
       "        text-align: right;\n",
       "    }\n",
       "</style>\n",
       "<table border=\"1\" class=\"dataframe\">\n",
       "  <thead>\n",
       "    <tr style=\"text-align: right;\">\n",
       "      <th></th>\n",
       "      <th>time</th>\n",
       "      <th>open</th>\n",
       "      <th>high</th>\n",
       "      <th>low</th>\n",
       "      <th>close</th>\n",
       "      <th>volume</th>\n",
       "    </tr>\n",
       "  </thead>\n",
       "  <tbody>\n",
       "    <tr>\n",
       "      <th>49999</th>\n",
       "      <td>2022-05-04 07:30</td>\n",
       "      <td>1.05122</td>\n",
       "      <td>1.05267</td>\n",
       "      <td>1.05108</td>\n",
       "      <td>1.05240</td>\n",
       "      <td>3774</td>\n",
       "    </tr>\n",
       "    <tr>\n",
       "      <th>50000</th>\n",
       "      <td>2022-05-04 07:45</td>\n",
       "      <td>1.05241</td>\n",
       "      <td>1.05267</td>\n",
       "      <td>1.05204</td>\n",
       "      <td>1.05240</td>\n",
       "      <td>3192</td>\n",
       "    </tr>\n",
       "    <tr>\n",
       "      <th>50001</th>\n",
       "      <td>2022-05-04 08:00</td>\n",
       "      <td>1.05241</td>\n",
       "      <td>1.05282</td>\n",
       "      <td>1.05186</td>\n",
       "      <td>1.05239</td>\n",
       "      <td>2919</td>\n",
       "    </tr>\n",
       "    <tr>\n",
       "      <th>50002</th>\n",
       "      <td>2022-05-04 08:15</td>\n",
       "      <td>1.05241</td>\n",
       "      <td>1.05266</td>\n",
       "      <td>1.05170</td>\n",
       "      <td>1.05246</td>\n",
       "      <td>3713</td>\n",
       "    </tr>\n",
       "    <tr>\n",
       "      <th>50003</th>\n",
       "      <td>2022-05-04 08:30</td>\n",
       "      <td>1.05246</td>\n",
       "      <td>1.05328</td>\n",
       "      <td>1.05240</td>\n",
       "      <td>1.05285</td>\n",
       "      <td>2757</td>\n",
       "    </tr>\n",
       "  </tbody>\n",
       "</table>\n",
       "</div>"
      ],
      "text/plain": [
       "                   time     open     high      low    close  volume\n",
       "49999  2022-05-04 07:30  1.05122  1.05267  1.05108  1.05240    3774\n",
       "50000  2022-05-04 07:45  1.05241  1.05267  1.05204  1.05240    3192\n",
       "50001  2022-05-04 08:00  1.05241  1.05282  1.05186  1.05239    2919\n",
       "50002  2022-05-04 08:15  1.05241  1.05266  1.05170  1.05246    3713\n",
       "50003  2022-05-04 08:30  1.05246  1.05328  1.05240  1.05285    2757"
      ]
     },
     "execution_count": 4,
     "metadata": {},
     "output_type": "execute_result"
    }
   ],
   "source": [
    "data.head()"
   ]
  },
  {
   "cell_type": "markdown",
   "id": "2461ca3d-d0d6-4d7d-b4a4-964656903798",
   "metadata": {},
   "source": [
    "## 1. Data preparation"
   ]
  },
  {
   "cell_type": "markdown",
   "id": "3ab47acf-0b12-49ca-8010-7b0a6a97ff77",
   "metadata": {},
   "source": [
    "Model will be trained on input sequences of length 32 (eight hours) and target sequences of length 8 (two hours)"
   ]
  },
  {
   "cell_type": "code",
   "execution_count": 5,
   "id": "a194ba7c-5fff-425e-bbe2-49602b65d175",
   "metadata": {},
   "outputs": [],
   "source": [
    "input_seq_len = 32\n",
    "output_seq_len = 8\n",
    "\n",
    "# 60:20:20 split for training validation test sets\n",
    "train_pct = 0.6\n",
    "val_pct = 0.2"
   ]
  },
  {
   "cell_type": "markdown",
   "id": "9a4d091c-aaa4-4bf5-b61c-e60ed0a22560",
   "metadata": {
    "jp-MarkdownHeadingCollapsed": true
   },
   "source": [
    "1.a Replace prices with their filtered versions"
   ]
  },
  {
   "cell_type": "code",
   "execution_count": 6,
   "id": "1235a032-7252-493e-ac05-e0d35ba61fcd",
   "metadata": {},
   "outputs": [],
   "source": [
    "b, a = butter(5, 1/8, btype='low', analog=False)\n",
    "data['bw_open'] = filtfilt(b, a, data['open'])\n",
    "data['bw_high'] = filtfilt(b, a, data['high'])\n",
    "data['bw_low'] = filtfilt(b, a, data['low'])\n",
    "data['bw_close'] = filtfilt(b, a, data['close'])"
   ]
  },
  {
   "cell_type": "code",
   "execution_count": 7,
   "id": "bb88b10b-0d9a-4e02-abba-7d3f2086f142",
   "metadata": {},
   "outputs": [
    {
     "data": {
      "image/png": "[encoded data removed]",
      "text/plain": [
       "<Figure size 600x500 with 1 Axes>"
      ]
     },
     "metadata": {},
     "output_type": "display_data"
    }
   ],
   "source": [
    "fig = plt.figure(figsize=(6, 5))\n",
    "ax1 = fig.add_subplot(111)\n",
    "\n",
    "ax1.plot(data['time'][:100], data['open'][:100], label='Close price')\n",
    "ax1.plot(data['time'][:100], data['bw_open'][:100], label='Filtered close price')\n",
    "\n",
    "every_nth = 10\n",
    "xticks = data['time'][:100:every_nth]\n",
    "ax1.set_xticks(xticks)\n",
    "ax1.set_xticklabels(xticks, rotation=20, ha='right');\n",
    "ax1.legend()\n",
    "ax1.set_ylabel('Price')\n",
    "ax1.set_xlabel('Date');"
   ]
  },
  {
   "cell_type": "markdown",
   "id": "f3b3c8de-3ce9-4652-9013-97bc46ac68b0",
   "metadata": {},
   "source": [
    "Note: Although model's target sequences will be made of the filtered price instead of the original price, the evaluation will be computed with the original (so the evaluation is done on real-world data)."
   ]
  },
  {
   "cell_type": "markdown",
   "id": "8ad4509e-11be-4caa-bf24-fdd91f84c506",
   "metadata": {},
   "source": [
    "1.b Add technical indicators: Relative Strength Index, Williams %R"
   ]
  },
  {
   "cell_type": "code",
   "execution_count": 8,
   "id": "f05c7009-cc99-4668-8a26-7fb66546e3b7",
   "metadata": {},
   "outputs": [],
   "source": [
    "data['rsi_close_14'] = abstract.RSI(data, timeperiod=7, price='close')\n",
    "data['willr_close_42'] = abstract.WILLR(data, timeperiod=42, price='close')"
   ]
  },
  {
   "cell_type": "code",
   "execution_count": 9,
   "id": "8e2f6aa0-d9a8-4384-beee-cde2173176db",
   "metadata": {},
   "outputs": [],
   "source": [
    "data.dropna(how='any', axis=0, inplace=True)"
   ]
  },
  {
   "cell_type": "code",
   "execution_count": 10,
   "id": "a4abb3e8-20fd-4787-b15b-74a807da0f96",
   "metadata": {},
   "outputs": [
    {
     "data": {
      "text/plain": [
       "['time',\n",
       " 'open',\n",
       " 'high',\n",
       " 'low',\n",
       " 'close',\n",
       " 'volume',\n",
       " 'bw_open',\n",
       " 'bw_high',\n",
       " 'bw_low',\n",
       " 'bw_close',\n",
       " 'rsi_close_14',\n",
       " 'willr_close_42']"
      ]
     },
     "execution_count": 10,
     "metadata": {},
     "output_type": "execute_result"
    }
   ],
   "source": [
    "list(data.columns)"
   ]
  },
  {
   "cell_type": "code",
   "execution_count": 11,
   "id": "61e286f3-04ac-4c4f-a97d-03b70212c2df",
   "metadata": {},
   "outputs": [],
   "source": [
    "data, _ = data_processor.normalize_custom(data, train_pct, ['volume', 'rsi_close_14', 'willr_close_42'])"
   ]
  },
  {
   "cell_type": "code",
   "execution_count": 12,
   "id": "5001bc7b-3fbe-4c58-8f15-a6d99cdfbac1",
   "metadata": {},
   "outputs": [],
   "source": [
    "# save data for future evaluation\n",
    "target_time = data[['time', 'bw_close', 'close']]"
   ]
  },
  {
   "cell_type": "markdown",
   "id": "b8e7752c-ed2d-402d-b55f-f0936ddcfcb5",
   "metadata": {},
   "source": [
    "Instead of price, use movement of price from one candle to following one"
   ]
  },
  {
   "cell_type": "code",
   "execution_count": 13,
   "id": "b57600ac-46ee-4ac2-8783-9b68d5a7b15b",
   "metadata": {},
   "outputs": [],
   "source": [
    "data = data_processor.diff_features(data, ['close', 'bw_open', 'bw_high', 'bw_low', 'bw_close'])"
   ]
  },
  {
   "cell_type": "code",
   "execution_count": 14,
   "id": "94699e06-9434-4630-8f37-16cb034d19d9",
   "metadata": {},
   "outputs": [
    {
     "data": {
      "text/plain": [
       "(-0.0019105034263933174, 0.002587228233668304, 2.1907770604290278e-06)"
      ]
     },
     "execution_count": 14,
     "metadata": {},
     "output_type": "execute_result"
    }
   ],
   "source": [
    "min(data['bw_close']), max(data['bw_close']), np.median(data['bw_close'])"
   ]
  },
  {
   "cell_type": "code",
   "execution_count": 15,
   "id": "e13e3b1b-c7eb-46c8-aab8-c2e208c25256",
   "metadata": {},
   "outputs": [
    {
     "data": {
      "image/png": "[encoded data removed]",
      "text/plain": [
       "<Figure size 640x480 with 1 Axes>"
      ]
     },
     "metadata": {},
     "output_type": "display_data"
    }
   ],
   "source": [
    "# what values are we curently working with?\n",
    "plt.hist(data['bw_close']);"
   ]
  },
  {
   "cell_type": "markdown",
   "id": "62f0a2f1-c729-4f67-8360-61a92862fd2b",
   "metadata": {},
   "source": [
    "To prevent from having all values this close to zero, use pips instead of movement of price."
   ]
  },
  {
   "cell_type": "code",
   "execution_count": 16,
   "id": "24550abe-20c0-4017-bc1e-9a347a31f56a",
   "metadata": {},
   "outputs": [],
   "source": [
    "data.loc[:, 'close'] *= pip_factor\n",
    "data.loc[:, 'bw_close'] *= pip_factor\n",
    "data.loc[:, 'bw_open'] *= pip_factor\n",
    "data.loc[:, 'bw_high'] *= pip_factor\n",
    "data.loc[:, 'bw_low'] *= pip_factor"
   ]
  },
  {
   "cell_type": "code",
   "execution_count": 17,
   "id": "21576e64-512f-4634-b60f-1b536d6708d3",
   "metadata": {},
   "outputs": [],
   "source": [
    "# save transformed data for future evaluation\n",
    "target = data[['close', 'bw_close']]"
   ]
  },
  {
   "cell_type": "code",
   "execution_count": 18,
   "id": "13a7ff52-d398-4389-ab55-50c08650e115",
   "metadata": {},
   "outputs": [
    {
     "name": "stderr",
     "output_type": "stream",
     "text": [
      "/tmp/ipykernel_40595/4177561520.py:1: SettingWithCopyWarning: \n",
      "A value is trying to be set on a copy of a slice from a DataFrame\n",
      "\n",
      "See the caveats in the documentation: https://pandas.pydata.org/pandas-docs/stable/user_guide/indexing.html#returning-a-view-versus-a-copy\n",
      "  data.drop(['open', 'high', 'low', 'close'], axis=1, inplace=True)\n"
     ]
    }
   ],
   "source": [
    "data.drop(['open', 'high', 'low', 'close'], axis=1, inplace=True)"
   ]
  },
  {
   "cell_type": "markdown",
   "id": "ceeca497-1872-4e3f-8674-25539f6dc966",
   "metadata": {},
   "source": [
    "## 2. Split data"
   ]
  },
  {
   "cell_type": "code",
   "execution_count": 20,
   "id": "bfb9c4f2-caf6-4703-9e00-a051decf80dc",
   "metadata": {},
   "outputs": [],
   "source": [
    "Xdata, ydata = model_trainer.create_Xy_data(data, target, input_seq_len, output_seq_len)"
   ]
  },
  {
   "cell_type": "code",
   "execution_count": 21,
   "id": "54b7334b-6d58-40bd-a392-a8db4c132fb0",
   "metadata": {},
   "outputs": [],
   "source": [
    "Xtrain_time, ytrain_c, Xval_time, yval_c, Xtest_time, ytest_c = model_trainer.split_data(Xdata, ydata, train_pct, val_pct)"
   ]
  },
  {
   "cell_type": "code",
   "execution_count": 22,
   "id": "e8faad7a-1abb-4660-b443-dfad46fa64c3",
   "metadata": {},
   "outputs": [],
   "source": [
    "# discard time column\n",
    "Xtrain = (Xtrain_time[:, :, 1:]).astype(np.float64)\n",
    "Xval = (Xval_time[:, :, 1:]).astype(np.float64)\n",
    "Xtest = (Xtest_time[:, :, 1:]).astype(np.float64)\n",
    "\n",
    "ytrain = ytrain_c[:, :, 1:]\n",
    "yval = yval_c[:, :, 1:]\n",
    "ytest = ytest_c[:, :, 1:]"
   ]
  },
  {
   "cell_type": "code",
   "execution_count": 23,
   "id": "61174dfa-2f67-4d35-83c5-170dd4567433",
   "metadata": {},
   "outputs": [],
   "source": [
    "# parameters of the transformer model\n",
    "config = {\n",
    "    'input_seq_len': input_seq_len,\n",
    "    'output_seq_len': output_seq_len,\n",
    "    'multihead_attn_heads': 4,\n",
    "    'd_k': 32,\n",
    "    'd_v': 32,\n",
    "    'd_ff': 32,\n",
    "    'd_out': ytrain.shape[-1],\n",
    "    'd_model': 32,\n",
    "    'encoder_layers': 1,\n",
    "    'decoder_layers': 1,\n",
    "    'dropout_rate': 0.1,\n",
    "    'activation': 'relu',\n",
    "    'batch_size': 32,\n",
    "}"
   ]
  },
  {
   "cell_type": "code",
   "execution_count": 25,
   "id": "b72bd88f-3986-4860-b4ae-4e8314673757",
   "metadata": {},
   "outputs": [],
   "source": [
    "epochs = 2\n",
    "\n",
    "path = 'saved_models/tf-thesis.h5'\n",
    "\n",
    "#model = model_trainer.load_model_transformer(path, Xtest, config)\n",
    "\n",
    "model = Transformer(config)"
   ]
  },
  {
   "cell_type": "code",
   "execution_count": null,
   "id": "06b41c36-7d53-4568-b7b3-e8f00aad614a",
   "metadata": {},
   "outputs": [
    {
     "name": "stdout",
     "output_type": "stream",
     "text": [
      "<class 'numpy.ndarray'> <class 'numpy.ndarray'> <class 'numpy.ndarray'> <class 'numpy.ndarray'> <class 'str'> <class 'int'> <class 'vanilla_transformer.Transformer'> <class 'float'> <class 'dict'> <class 'numpy.ndarray'>\n"
     ]
    },
    {
     "name": "stderr",
     "output_type": "stream",
     "text": [
      "2024-06-23 16:40:21.514032: I tensorflow/compiler/xla/service/service.cc:168] XLA service 0x557767e5d260 initialized for platform CUDA (this does not guarantee that XLA will be used). Devices:\n",
      "2024-06-23 16:40:21.514049: I tensorflow/compiler/xla/service/service.cc:176]   StreamExecutor device (0): NVIDIA GeForce RTX 3060, Compute Capability 8.6\n",
      "2024-06-23 16:40:21.521157: I tensorflow/compiler/mlir/tensorflow/utils/dump_mlir_util.cc:269] disabling MLIR crash reproducer, set env var `MLIR_CRASH_REPRODUCER_DIRECTORY` to enable.\n",
      "2024-06-23 16:40:21.964455: I tensorflow/compiler/xla/stream_executor/cuda/cuda_dnn.cc:442] Loaded cuDNN version 8904\n",
      "2024-06-23 16:40:22.038503: I ./tensorflow/compiler/jit/device_compiler.h:186] Compiled cluster using XLA!  This line is logged at most once for the lifetime of the process.\n"
     ]
    }
   ],
   "source": [
    "model, best_epoch, train_losses, val_losses = model_trainer.train_model_transformer(Xtrain, ytrain, Xval, yval, path, epochs, model, 1e-3, config, Xtest)"
   ]
  },
  {
   "cell_type": "code",
   "execution_count": null,
   "id": "eebdd716-2049-41a3-812f-a0c2c0d6e262",
   "metadata": {},
   "outputs": [],
   "source": []
  }
 ],
 "metadata": {
  "kernelspec": {
   "display_name": "Python 3 (ipykernel)",
   "language": "python",
   "name": "python3"
  },
  "language_info": {
   "codemirror_mode": {
    "name": "ipython",
    "version": 3
   },
   "file_extension": ".py",
   "mimetype": "text/x-python",
   "name": "python",
   "nbconvert_exporter": "python",
   "pygments_lexer": "ipython3",
   "version": "3.11.8"
  }
 },
 "nbformat": 4,
 "nbformat_minor": 5
}
